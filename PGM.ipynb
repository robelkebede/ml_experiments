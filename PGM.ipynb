{
 "cells": [
  {
   "cell_type": "code",
   "execution_count": 19,
   "id": "05018d48",
   "metadata": {},
   "outputs": [],
   "source": [
    "import numpy as np\n",
    "import pandas as pd\n",
    "import networkx as nx\n",
    "import matplotlib.pyplot as plt\n",
    "from feature_engine import discretisation as dsc\n",
    "\n",
    "from pgmpy.factors.discrete import TabularCPD\n",
    "from pgmpy.models import BayesianModel\n",
    "\n",
    "\n",
    "\n",
    "from pgmpy.estimators import HillClimbSearch, MaximumLikelihoodEstimator, BicScore\n",
    "from pgmpy.models import BayesianModel\n",
    "from pgmpy.inference import VariableElimination"
   ]
  },
  {
   "cell_type": "code",
   "execution_count": 20,
   "id": "b3d6b6c5",
   "metadata": {},
   "outputs": [],
   "source": [
    "df = pd.read_csv(\"dataset.csv\").dropna()\n"
   ]
  },
  {
   "cell_type": "code",
   "execution_count": 21,
   "id": "203844bb",
   "metadata": {},
   "outputs": [],
   "source": [
    "df['Sex'] = df['Sex'].replace('m',0)\n",
    "df['Sex'] = df['Sex'].replace('f',1)\n"
   ]
  },
  {
   "cell_type": "code",
   "execution_count": 22,
   "id": "42ab7e4a",
   "metadata": {},
   "outputs": [
    {
     "data": {
      "text/html": [
       "<div>\n",
       "<style scoped>\n",
       "    .dataframe tbody tr th:only-of-type {\n",
       "        vertical-align: middle;\n",
       "    }\n",
       "\n",
       "    .dataframe tbody tr th {\n",
       "        vertical-align: top;\n",
       "    }\n",
       "\n",
       "    .dataframe thead th {\n",
       "        text-align: right;\n",
       "    }\n",
       "</style>\n",
       "<table border=\"1\" class=\"dataframe\">\n",
       "  <thead>\n",
       "    <tr style=\"text-align: right;\">\n",
       "      <th></th>\n",
       "      <th>Category</th>\n",
       "      <th>Age</th>\n",
       "      <th>Sex</th>\n",
       "      <th>ALB</th>\n",
       "      <th>ALP</th>\n",
       "      <th>ALT</th>\n",
       "      <th>AST</th>\n",
       "      <th>BIL</th>\n",
       "      <th>CHE</th>\n",
       "      <th>CHOL</th>\n",
       "      <th>CREA</th>\n",
       "      <th>GGT</th>\n",
       "      <th>PROT</th>\n",
       "    </tr>\n",
       "  </thead>\n",
       "  <tbody>\n",
       "    <tr>\n",
       "      <th>0</th>\n",
       "      <td>0.0</td>\n",
       "      <td>32</td>\n",
       "      <td>0</td>\n",
       "      <td>38.5</td>\n",
       "      <td>52.5</td>\n",
       "      <td>7.7</td>\n",
       "      <td>22.1</td>\n",
       "      <td>7.5</td>\n",
       "      <td>6.93</td>\n",
       "      <td>3.23</td>\n",
       "      <td>106.0</td>\n",
       "      <td>12.1</td>\n",
       "      <td>69.0</td>\n",
       "    </tr>\n",
       "    <tr>\n",
       "      <th>1</th>\n",
       "      <td>0.0</td>\n",
       "      <td>32</td>\n",
       "      <td>0</td>\n",
       "      <td>38.5</td>\n",
       "      <td>70.3</td>\n",
       "      <td>18.0</td>\n",
       "      <td>24.7</td>\n",
       "      <td>3.9</td>\n",
       "      <td>11.17</td>\n",
       "      <td>4.80</td>\n",
       "      <td>74.0</td>\n",
       "      <td>15.6</td>\n",
       "      <td>76.5</td>\n",
       "    </tr>\n",
       "    <tr>\n",
       "      <th>2</th>\n",
       "      <td>0.0</td>\n",
       "      <td>32</td>\n",
       "      <td>0</td>\n",
       "      <td>46.9</td>\n",
       "      <td>74.7</td>\n",
       "      <td>36.2</td>\n",
       "      <td>52.6</td>\n",
       "      <td>6.1</td>\n",
       "      <td>8.84</td>\n",
       "      <td>5.20</td>\n",
       "      <td>86.0</td>\n",
       "      <td>33.2</td>\n",
       "      <td>79.3</td>\n",
       "    </tr>\n",
       "    <tr>\n",
       "      <th>3</th>\n",
       "      <td>0.0</td>\n",
       "      <td>32</td>\n",
       "      <td>0</td>\n",
       "      <td>43.2</td>\n",
       "      <td>52.0</td>\n",
       "      <td>30.6</td>\n",
       "      <td>22.6</td>\n",
       "      <td>18.9</td>\n",
       "      <td>7.33</td>\n",
       "      <td>4.74</td>\n",
       "      <td>80.0</td>\n",
       "      <td>33.8</td>\n",
       "      <td>75.7</td>\n",
       "    </tr>\n",
       "    <tr>\n",
       "      <th>4</th>\n",
       "      <td>0.0</td>\n",
       "      <td>32</td>\n",
       "      <td>0</td>\n",
       "      <td>39.2</td>\n",
       "      <td>74.1</td>\n",
       "      <td>32.6</td>\n",
       "      <td>24.8</td>\n",
       "      <td>9.6</td>\n",
       "      <td>9.15</td>\n",
       "      <td>4.32</td>\n",
       "      <td>76.0</td>\n",
       "      <td>29.9</td>\n",
       "      <td>68.7</td>\n",
       "    </tr>\n",
       "  </tbody>\n",
       "</table>\n",
       "</div>"
      ],
      "text/plain": [
       "   Category  Age  Sex   ALB   ALP   ALT   AST   BIL    CHE  CHOL   CREA   GGT  \\\n",
       "0       0.0   32    0  38.5  52.5   7.7  22.1   7.5   6.93  3.23  106.0  12.1   \n",
       "1       0.0   32    0  38.5  70.3  18.0  24.7   3.9  11.17  4.80   74.0  15.6   \n",
       "2       0.0   32    0  46.9  74.7  36.2  52.6   6.1   8.84  5.20   86.0  33.2   \n",
       "3       0.0   32    0  43.2  52.0  30.6  22.6  18.9   7.33  4.74   80.0  33.8   \n",
       "4       0.0   32    0  39.2  74.1  32.6  24.8   9.6   9.15  4.32   76.0  29.9   \n",
       "\n",
       "   PROT  \n",
       "0  69.0  \n",
       "1  76.5  \n",
       "2  79.3  \n",
       "3  75.7  \n",
       "4  68.7  "
      ]
     },
     "execution_count": 22,
     "metadata": {},
     "output_type": "execute_result"
    }
   ],
   "source": [
    "df.head()"
   ]
  },
  {
   "cell_type": "code",
   "execution_count": 23,
   "id": "b488e13e",
   "metadata": {},
   "outputs": [],
   "source": [
    "feature = df.drop('Category', axis=1)\n",
    "target = df[\"Category\"]"
   ]
  },
  {
   "cell_type": "code",
   "execution_count": 24,
   "id": "a3935cd4",
   "metadata": {},
   "outputs": [
    {
     "name": "stdout",
     "output_type": "stream",
     "text": [
      "Age :  46\n",
      "Sex :  2\n",
      "ALB :  188\n",
      "ALP :  409\n",
      "ALT :  323\n",
      "AST :  282\n",
      "BIL :  187\n",
      "CHE :  395\n",
      "CHOL :  308\n",
      "CREA :  115\n",
      "GGT :  335\n",
      "PROT :  194\n"
     ]
    },
    {
     "data": {
      "text/plain": [
       "['Age',\n",
       " 'ALB',\n",
       " 'ALP',\n",
       " 'ALT',\n",
       " 'AST',\n",
       " 'BIL',\n",
       " 'CHE',\n",
       " 'CHOL',\n",
       " 'CREA',\n",
       " 'GGT',\n",
       " 'PROT']"
      ]
     },
     "execution_count": 24,
     "metadata": {},
     "output_type": "execute_result"
    }
   ],
   "source": [
    "col_list = []\n",
    "for col in feature.columns:\n",
    "    print(col, \": \", len(feature[col].unique()))\n",
    "    if(len(feature[col].unique()) > 32):\n",
    "        col_list.append(col)\n",
    "\n",
    "        \n",
    "col_list"
   ]
  },
  {
   "cell_type": "code",
   "execution_count": 25,
   "id": "f1b1a7b8",
   "metadata": {},
   "outputs": [],
   "source": [
    "num_bins = 3\n",
    "disc = dsc.EqualFrequencyDiscretiser(q=num_bins, variables=col_list)\n",
    "df_binned = disc.fit(feature[col_list])\n",
    "equalfrequency_discretizer_dict = disc.binner_dict_\n",
    "bin_df_equalfrequency = pd.DataFrame.from_dict(equalfrequency_discretizer_dict, orient = 'index')"
   ]
  },
  {
   "cell_type": "code",
   "execution_count": 26,
   "id": "676e39f2",
   "metadata": {},
   "outputs": [],
   "source": [
    "min(feature['Age'].unique()), max(feature['Age'].unique())\n",
    "bin_age = ['19 to 28', '28 to 38', '38 to 75']"
   ]
  },
  {
   "cell_type": "code",
   "execution_count": 27,
   "id": "37ca7894",
   "metadata": {},
   "outputs": [],
   "source": [
    "min(feature['ALB'].unique()), max(feature['ALB'].unique())\n",
    "bin_alb = ['14 to 20', '30 to 60', '60 to 82']\n"
   ]
  },
  {
   "cell_type": "code",
   "execution_count": 28,
   "id": "d41bd9dd",
   "metadata": {},
   "outputs": [],
   "source": [
    "min(feature['ALP'].unique()), max(feature['ALP'].unique())\n",
    "bin_alp = ['11 to 100', '100 to 240', '240 to 400']\n"
   ]
  },
  {
   "cell_type": "code",
   "execution_count": 29,
   "id": "deb4b554",
   "metadata": {},
   "outputs": [],
   "source": [
    "min(feature['ALT'].unique()), max(feature['ALT'].unique())\n",
    "bin_alt = ['0 to 100', '100 to 200', '200 to 225']\n"
   ]
  },
  {
   "cell_type": "code",
   "execution_count": 30,
   "id": "2ad3ea5b",
   "metadata": {},
   "outputs": [],
   "source": [
    "min(feature['CHOL'].unique()), max(feature['CHOL'].unique())\n",
    "bin_chol = ['0 to 3', '3 to 6', '6 to 10']\n"
   ]
  },
  {
   "cell_type": "code",
   "execution_count": 31,
   "id": "210b3771",
   "metadata": {},
   "outputs": [],
   "source": [
    "min(feature['GGT'].unique()), max(feature['GGT'].unique())\n",
    "bin_ggt = ['4 to 200', '200 to 400', '400 to 550']\n"
   ]
  },
  {
   "cell_type": "code",
   "execution_count": 32,
   "id": "5d406614",
   "metadata": {},
   "outputs": [],
   "source": [
    "feature['Age'] = pd.cut(feature['Age'], 3, labels= bin_age)\n",
    "feature['ALB'] = pd.cut(feature['ALB'], 3, labels= bin_age)\n",
    "feature['ALP'] = pd.cut(feature['ALP'], 3, labels= bin_age)\n",
    "feature['ALT'] = pd.cut(feature['ALT'], 3, labels= bin_age)\n",
    "feature['CHOL'] = pd.cut(feature['CHOL'], 3, labels= bin_age)\n",
    "feature['GGT'] = pd.cut(feature['GGT'], 3, labels= bin_age)\n"
   ]
  },
  {
   "cell_type": "code",
   "execution_count": 33,
   "id": "65d87592",
   "metadata": {},
   "outputs": [],
   "source": [
    "feature = pd.DataFrame([feature['Age'],feature['ALB'],feature['ALP'],feature['ALT'],df['Category']])"
   ]
  },
  {
   "cell_type": "code",
   "execution_count": 34,
   "id": "e8d9d1ad",
   "metadata": {},
   "outputs": [
    {
     "data": {
      "text/html": [
       "<div>\n",
       "<style scoped>\n",
       "    .dataframe tbody tr th:only-of-type {\n",
       "        vertical-align: middle;\n",
       "    }\n",
       "\n",
       "    .dataframe tbody tr th {\n",
       "        vertical-align: top;\n",
       "    }\n",
       "\n",
       "    .dataframe thead th {\n",
       "        text-align: right;\n",
       "    }\n",
       "</style>\n",
       "<table border=\"1\" class=\"dataframe\">\n",
       "  <thead>\n",
       "    <tr style=\"text-align: right;\">\n",
       "      <th></th>\n",
       "      <th>Age</th>\n",
       "      <th>ALB</th>\n",
       "      <th>ALP</th>\n",
       "      <th>ALT</th>\n",
       "      <th>Category</th>\n",
       "    </tr>\n",
       "  </thead>\n",
       "  <tbody>\n",
       "    <tr>\n",
       "      <th>0</th>\n",
       "      <td>19 to 28</td>\n",
       "      <td>28 to 38</td>\n",
       "      <td>19 to 28</td>\n",
       "      <td>19 to 28</td>\n",
       "      <td>0.0</td>\n",
       "    </tr>\n",
       "    <tr>\n",
       "      <th>1</th>\n",
       "      <td>19 to 28</td>\n",
       "      <td>28 to 38</td>\n",
       "      <td>19 to 28</td>\n",
       "      <td>19 to 28</td>\n",
       "      <td>0.0</td>\n",
       "    </tr>\n",
       "    <tr>\n",
       "      <th>2</th>\n",
       "      <td>19 to 28</td>\n",
       "      <td>28 to 38</td>\n",
       "      <td>19 to 28</td>\n",
       "      <td>19 to 28</td>\n",
       "      <td>0.0</td>\n",
       "    </tr>\n",
       "    <tr>\n",
       "      <th>3</th>\n",
       "      <td>19 to 28</td>\n",
       "      <td>28 to 38</td>\n",
       "      <td>19 to 28</td>\n",
       "      <td>19 to 28</td>\n",
       "      <td>0.0</td>\n",
       "    </tr>\n",
       "    <tr>\n",
       "      <th>4</th>\n",
       "      <td>19 to 28</td>\n",
       "      <td>28 to 38</td>\n",
       "      <td>19 to 28</td>\n",
       "      <td>19 to 28</td>\n",
       "      <td>0.0</td>\n",
       "    </tr>\n",
       "    <tr>\n",
       "      <th>...</th>\n",
       "      <td>...</td>\n",
       "      <td>...</td>\n",
       "      <td>...</td>\n",
       "      <td>...</td>\n",
       "      <td>...</td>\n",
       "    </tr>\n",
       "    <tr>\n",
       "      <th>608</th>\n",
       "      <td>28 to 38</td>\n",
       "      <td>19 to 28</td>\n",
       "      <td>19 to 28</td>\n",
       "      <td>19 to 28</td>\n",
       "      <td>3.0</td>\n",
       "    </tr>\n",
       "    <tr>\n",
       "      <th>609</th>\n",
       "      <td>28 to 38</td>\n",
       "      <td>28 to 38</td>\n",
       "      <td>19 to 28</td>\n",
       "      <td>19 to 28</td>\n",
       "      <td>3.0</td>\n",
       "    </tr>\n",
       "    <tr>\n",
       "      <th>610</th>\n",
       "      <td>38 to 75</td>\n",
       "      <td>19 to 28</td>\n",
       "      <td>38 to 75</td>\n",
       "      <td>19 to 28</td>\n",
       "      <td>3.0</td>\n",
       "    </tr>\n",
       "    <tr>\n",
       "      <th>611</th>\n",
       "      <td>38 to 75</td>\n",
       "      <td>19 to 28</td>\n",
       "      <td>19 to 28</td>\n",
       "      <td>19 to 28</td>\n",
       "      <td>3.0</td>\n",
       "    </tr>\n",
       "    <tr>\n",
       "      <th>612</th>\n",
       "      <td>38 to 75</td>\n",
       "      <td>19 to 28</td>\n",
       "      <td>19 to 28</td>\n",
       "      <td>19 to 28</td>\n",
       "      <td>3.0</td>\n",
       "    </tr>\n",
       "  </tbody>\n",
       "</table>\n",
       "<p>589 rows × 5 columns</p>\n",
       "</div>"
      ],
      "text/plain": [
       "          Age       ALB       ALP       ALT Category\n",
       "0    19 to 28  28 to 38  19 to 28  19 to 28      0.0\n",
       "1    19 to 28  28 to 38  19 to 28  19 to 28      0.0\n",
       "2    19 to 28  28 to 38  19 to 28  19 to 28      0.0\n",
       "3    19 to 28  28 to 38  19 to 28  19 to 28      0.0\n",
       "4    19 to 28  28 to 38  19 to 28  19 to 28      0.0\n",
       "..        ...       ...       ...       ...      ...\n",
       "608  28 to 38  19 to 28  19 to 28  19 to 28      3.0\n",
       "609  28 to 38  28 to 38  19 to 28  19 to 28      3.0\n",
       "610  38 to 75  19 to 28  38 to 75  19 to 28      3.0\n",
       "611  38 to 75  19 to 28  19 to 28  19 to 28      3.0\n",
       "612  38 to 75  19 to 28  19 to 28  19 to 28      3.0\n",
       "\n",
       "[589 rows x 5 columns]"
      ]
     },
     "execution_count": 34,
     "metadata": {},
     "output_type": "execute_result"
    }
   ],
   "source": [
    "# Normalized Data\n",
    "\n",
    "feature = feature.T\n",
    "\n",
    "feature"
   ]
  },
  {
   "cell_type": "code",
   "execution_count": 37,
   "id": "8168fb56",
   "metadata": {},
   "outputs": [
    {
     "name": "stderr",
     "output_type": "stream",
     "text": [
      "  0%|          | 4/1000000 [00:00<11:13:45, 24.74it/s]\n"
     ]
    },
    {
     "data": {
      "image/png": "[encoded data removed]",
      "text/plain": [
       "<Figure size 1080x720 with 1 Axes>"
      ]
     },
     "metadata": {},
     "output_type": "display_data"
    }
   ],
   "source": [
    "hc = HillClimbSearch(feature)\n",
    "best_model = hc.estimate()\n",
    "edges = list(best_model.edges())\n",
    "\n",
    "model = BayesianModel(edges)\n",
    "\n",
    "%matplotlib inline\n",
    "plt.figure(figsize=(15,10))\n",
    "\n",
    "# nx.draw(model, with_labels=True)\n",
    "nx.draw(model, pos= nx.spring_layout(model), with_labels=True, node_size=2000, node_color=\"orange\", width = 4, font_size = 20)\n",
    "plt.show()"
   ]
  },
  {
   "cell_type": "code",
   "execution_count": 38,
   "id": "dca155d0",
   "metadata": {},
   "outputs": [],
   "source": [
    "# Fitting the data to the model using Maximum Likelihood Estimator\n",
    "model.fit(feature, estimator=MaximumLikelihoodEstimator)\n",
    "\n",
    "# Doing exact inference using Variable Elimination\n",
    "infer = VariableElimination(model)\n",
    "\n",
    "target = 'Category'"
   ]
  },
  {
   "cell_type": "code",
   "execution_count": 39,
   "id": "6ff92d39",
   "metadata": {},
   "outputs": [
    {
     "data": {
      "text/plain": [
       "['ALB']"
      ]
     },
     "execution_count": 39,
     "metadata": {},
     "output_type": "execute_result"
    }
   ],
   "source": [
    "model.get_parents(target)"
   ]
  },
  {
   "cell_type": "code",
   "execution_count": 40,
   "id": "34c9f4d2",
   "metadata": {},
   "outputs": [
    {
     "name": "stderr",
     "output_type": "stream",
     "text": [
      "Finding Elimination Order: :   0%|          | 0/1 [00:00<?, ?it/s]\n",
      "  0%|          | 0/1 [00:00<?, ?it/s]\u001b[A\n",
      "Eliminating: ALP: 100%|██████████| 1/1 [00:00<00:00, 573.85it/s]"
     ]
    },
    {
     "name": "stdout",
     "output_type": "stream",
     "text": [
      "+---------------+---------------+---------------------+\n",
      "| ALB           | Category      |   phi(ALB,Category) |\n",
      "+===============+===============+=====================+\n",
      "| ALB(19 to 28) | Category(0.0) |              0.1290 |\n",
      "+---------------+---------------+---------------------+\n",
      "| ALB(19 to 28) | Category(1.0) |              0.0034 |\n",
      "+---------------+---------------+---------------------+\n",
      "| ALB(19 to 28) | Category(2.0) |              0.0000 |\n",
      "+---------------+---------------+---------------------+\n",
      "| ALB(19 to 28) | Category(3.0) |              0.0340 |\n",
      "+---------------+---------------+---------------------+\n",
      "| ALB(28 to 38) | Category(0.0) |              0.7708 |\n",
      "+---------------+---------------+---------------------+\n",
      "| ALB(28 to 38) | Category(1.0) |              0.0306 |\n",
      "+---------------+---------------+---------------------+\n",
      "| ALB(28 to 38) | Category(2.0) |              0.0204 |\n",
      "+---------------+---------------+---------------------+\n",
      "| ALB(28 to 38) | Category(3.0) |              0.0068 |\n",
      "+---------------+---------------+---------------------+\n",
      "| ALB(38 to 75) | Category(0.0) |              0.0051 |\n",
      "+---------------+---------------+---------------------+\n",
      "| ALB(38 to 75) | Category(1.0) |              0.0000 |\n",
      "+---------------+---------------+---------------------+\n",
      "| ALB(38 to 75) | Category(2.0) |              0.0000 |\n",
      "+---------------+---------------+---------------------+\n",
      "| ALB(38 to 75) | Category(3.0) |              0.0000 |\n",
      "+---------------+---------------+---------------------+\n"
     ]
    },
    {
     "name": "stderr",
     "output_type": "stream",
     "text": [
      "\n"
     ]
    }
   ],
   "source": [
    "print(infer.query(variables=[target, 'ALB'], joint= True))"
   ]
  },
  {
   "cell_type": "code",
   "execution_count": null,
   "id": "629f4272",
   "metadata": {},
   "outputs": [],
   "source": []
  },
  {
   "cell_type": "code",
   "execution_count": null,
   "id": "d8b9995c",
   "metadata": {},
   "outputs": [],
   "source": []
  }
 ],
 "metadata": {
  "kernelspec": {
   "display_name": "Python 3",
   "language": "python",
   "name": "python3"
  },
  "language_info": {
   "codemirror_mode": {
    "name": "ipython",
    "version": 3
   },
   "file_extension": ".py",
   "mimetype": "text/x-python",
   "name": "python",
   "nbconvert_exporter": "python",
   "pygments_lexer": "ipython3",
   "version": "3.9.2"
  }
 },
 "nbformat": 4,
 "nbformat_minor": 5
}
