{
 "cells": [
  {
   "cell_type": "code",
   "execution_count": 8,
   "metadata": {},
   "outputs": [],
   "source": [
    "import numpy as np\n",
    "import matplotlib.pyplot as plt\n",
    "from sklearn.datasets import load_iris\n",
    "from sklearn.model_selection import train_test_split\n",
    "import torch\n",
    "from torch import nn"
   ]
  },
  {
   "cell_type": "code",
   "execution_count": 9,
   "metadata": {},
   "outputs": [],
   "source": [
    "iris = load_iris()\n",
    "\n",
    "X = iris.data\n",
    "y = iris.target"
   ]
  },
  {
   "cell_type": "code",
   "execution_count": 10,
   "metadata": {},
   "outputs": [],
   "source": [
    "X_train,X_test,y_train,y_test = train_test_split(X,y)"
   ]
  },
  {
   "cell_type": "code",
   "execution_count": 11,
   "metadata": {},
   "outputs": [],
   "source": [
    "X_train = torch.from_numpy(X_train)\n",
    "y_train = torch.from_numpy(y_train)\n",
    "X_test = torch.from_numpy(X_test)\n",
    "y_test = torch.from_numpy(y_test)"
   ]
  },
  {
   "cell_type": "code",
   "execution_count": 157,
   "metadata": {},
   "outputs": [],
   "source": [
    "class LSTM(nn.Module):\n",
    "    def __init__(self ,input_size, hidden_size, output_size):\n",
    "        super(LSTM,self).__init__()\n",
    "        self.cell = nn.Linear(5,4)\n",
    "        self.ver = nn.Linear(5,4)\n",
    "        self.hor = nn.Linear(5,4)\n",
    "        self.hor_t = nn.Linear(5,4)\n",
    "        \n",
    "        self.hidden_size = hidden_size\n",
    "        \n",
    "        \n",
    "    def forward(self,x,hidden_state,cell_state):\n",
    "        \n",
    "        comb = torch.cat((x.reshape(1,1),hidden_state),1)\n",
    "        \n",
    "        cell_state_t = torch.sigmoid(self.ver(comb))\n",
    "        \n",
    "        i_t = torch.sigmoid(self.hor(comb))\n",
    "        c_t_hat = torch.tanh(self.hor_t(comb))\n",
    "    \n",
    "        c_t = cell_state_t * cell_state + i_t * c_t_hat\n",
    "           \n",
    "        o_t = i_t\n",
    "        h_t = o_t * torch.tanh(c_t)\n",
    "        \n",
    "        return h_t,c_t,h_t\n",
    "    \n",
    "    \n",
    "    # find a better way yto do this\n",
    "    def init_state_t(self):\n",
    "        #return nn.init.kaiming_uniform_(torch.empty(1, self.hidden_size))\n",
    "        return torch.zeros(1, self.hidden_size)\n",
    "    \n",
    "    def init_cell_t(self):\n",
    "        #return nn.init.kaiming_uniform_(torch.empty(1, self.hidden_size))\n",
    "        return torch.zeros(1, self.hidden_size)\n",
    "        \n",
    "    \n"
   ]
  },
  {
   "cell_type": "code",
   "execution_count": 158,
   "metadata": {},
   "outputs": [],
   "source": [
    "model = LSTM(1,4,3)\n"
   ]
  },
  {
   "cell_type": "code",
   "execution_count": 159,
   "metadata": {},
   "outputs": [],
   "source": [
    "output = model(torch.tensor([X_train[0][0]]).float() ,torch.rand(1,4),torch.rand(1,4))"
   ]
  },
  {
   "cell_type": "code",
   "execution_count": 164,
   "metadata": {},
   "outputs": [],
   "source": [
    "criterion = nn.CrossEntropyLoss()\n",
    "optimizer = torch.optim.Adam(model.parameters())"
   ]
  },
  {
   "cell_type": "code",
   "execution_count": 180,
   "metadata": {},
   "outputs": [
    {
     "name": "stdout",
     "output_type": "stream",
     "text": [
      "tensor(0.8710, grad_fn=<NllLossBackward>)\n",
      "tensor(0.6512, grad_fn=<NllLossBackward>)\n",
      "tensor(0.6509, grad_fn=<NllLossBackward>)\n",
      "tensor(0.6809, grad_fn=<NllLossBackward>)\n",
      "tensor(1.5058, grad_fn=<NllLossBackward>)\n",
      "tensor(0.6578, grad_fn=<NllLossBackward>)\n",
      "tensor(0.6107, grad_fn=<NllLossBackward>)\n",
      "tensor(1.2703, grad_fn=<NllLossBackward>)\n",
      "tensor(0.8518, grad_fn=<NllLossBackward>)\n",
      "tensor(0.7150, grad_fn=<NllLossBackward>)\n",
      "tensor(0.6925, grad_fn=<NllLossBackward>)\n",
      "tensor(0.9163, grad_fn=<NllLossBackward>)\n",
      "tensor(0.8563, grad_fn=<NllLossBackward>)\n",
      "tensor(0.6409, grad_fn=<NllLossBackward>)\n",
      "tensor(0.6398, grad_fn=<NllLossBackward>)\n",
      "tensor(0.6711, grad_fn=<NllLossBackward>)\n",
      "tensor(1.5109, grad_fn=<NllLossBackward>)\n",
      "tensor(0.6478, grad_fn=<NllLossBackward>)\n",
      "tensor(0.5993, grad_fn=<NllLossBackward>)\n",
      "tensor(1.2645, grad_fn=<NllLossBackward>)\n",
      "tensor(0.8390, grad_fn=<NllLossBackward>)\n",
      "tensor(0.7080, grad_fn=<NllLossBackward>)\n",
      "tensor(0.6849, grad_fn=<NllLossBackward>)\n",
      "tensor(0.9058, grad_fn=<NllLossBackward>)\n",
      "tensor(0.8431, grad_fn=<NllLossBackward>)\n",
      "tensor(0.6323, grad_fn=<NllLossBackward>)\n",
      "tensor(0.6304, grad_fn=<NllLossBackward>)\n",
      "tensor(0.6627, grad_fn=<NllLossBackward>)\n",
      "tensor(1.5135, grad_fn=<NllLossBackward>)\n",
      "tensor(0.6392, grad_fn=<NllLossBackward>)\n",
      "tensor(0.5895, grad_fn=<NllLossBackward>)\n",
      "tensor(1.2579, grad_fn=<NllLossBackward>)\n",
      "tensor(0.8274, grad_fn=<NllLossBackward>)\n",
      "tensor(0.7021, grad_fn=<NllLossBackward>)\n",
      "tensor(0.6785, grad_fn=<NllLossBackward>)\n",
      "tensor(0.8961, grad_fn=<NllLossBackward>)\n",
      "tensor(0.8312, grad_fn=<NllLossBackward>)\n",
      "tensor(0.6248, grad_fn=<NllLossBackward>)\n",
      "tensor(0.6221, grad_fn=<NllLossBackward>)\n",
      "tensor(0.6553, grad_fn=<NllLossBackward>)\n",
      "tensor(1.5145, grad_fn=<NllLossBackward>)\n",
      "tensor(0.6316, grad_fn=<NllLossBackward>)\n",
      "tensor(0.5810, grad_fn=<NllLossBackward>)\n",
      "tensor(1.2510, grad_fn=<NllLossBackward>)\n",
      "tensor(0.8169, grad_fn=<NllLossBackward>)\n",
      "tensor(0.6969, grad_fn=<NllLossBackward>)\n",
      "tensor(0.6728, grad_fn=<NllLossBackward>)\n",
      "tensor(0.8871, grad_fn=<NllLossBackward>)\n",
      "tensor(0.8204, grad_fn=<NllLossBackward>)\n",
      "tensor(0.6182, grad_fn=<NllLossBackward>)\n",
      "tensor(0.6147, grad_fn=<NllLossBackward>)\n",
      "tensor(0.6488, grad_fn=<NllLossBackward>)\n",
      "tensor(1.5145, grad_fn=<NllLossBackward>)\n",
      "tensor(0.6248, grad_fn=<NllLossBackward>)\n",
      "tensor(0.5733, grad_fn=<NllLossBackward>)\n",
      "tensor(1.2442, grad_fn=<NllLossBackward>)\n",
      "tensor(0.8074, grad_fn=<NllLossBackward>)\n",
      "tensor(0.6921, grad_fn=<NllLossBackward>)\n",
      "tensor(0.6676, grad_fn=<NllLossBackward>)\n",
      "tensor(0.8788, grad_fn=<NllLossBackward>)\n",
      "tensor(0.8107, grad_fn=<NllLossBackward>)\n",
      "tensor(0.6122, grad_fn=<NllLossBackward>)\n",
      "tensor(0.6080, grad_fn=<NllLossBackward>)\n",
      "tensor(0.6428, grad_fn=<NllLossBackward>)\n",
      "tensor(1.5139, grad_fn=<NllLossBackward>)\n",
      "tensor(0.6186, grad_fn=<NllLossBackward>)\n",
      "tensor(0.5663, grad_fn=<NllLossBackward>)\n",
      "tensor(1.2378, grad_fn=<NllLossBackward>)\n",
      "tensor(0.7988, grad_fn=<NllLossBackward>)\n",
      "tensor(0.6877, grad_fn=<NllLossBackward>)\n",
      "tensor(0.6627, grad_fn=<NllLossBackward>)\n",
      "tensor(0.8712, grad_fn=<NllLossBackward>)\n",
      "tensor(0.8019, grad_fn=<NllLossBackward>)\n",
      "tensor(0.6066, grad_fn=<NllLossBackward>)\n",
      "tensor(0.6018, grad_fn=<NllLossBackward>)\n",
      "tensor(0.6373, grad_fn=<NllLossBackward>)\n",
      "tensor(1.5128, grad_fn=<NllLossBackward>)\n",
      "tensor(0.6128, grad_fn=<NllLossBackward>)\n",
      "tensor(0.5599, grad_fn=<NllLossBackward>)\n",
      "tensor(1.2317, grad_fn=<NllLossBackward>)\n",
      "tensor(0.7910, grad_fn=<NllLossBackward>)\n",
      "tensor(0.6834, grad_fn=<NllLossBackward>)\n",
      "tensor(0.6581, grad_fn=<NllLossBackward>)\n",
      "tensor(0.8641, grad_fn=<NllLossBackward>)\n",
      "tensor(0.7940, grad_fn=<NllLossBackward>)\n",
      "tensor(0.6014, grad_fn=<NllLossBackward>)\n",
      "tensor(0.5960, grad_fn=<NllLossBackward>)\n",
      "tensor(0.6321, grad_fn=<NllLossBackward>)\n",
      "tensor(1.5115, grad_fn=<NllLossBackward>)\n",
      "tensor(0.6073, grad_fn=<NllLossBackward>)\n",
      "tensor(0.5540, grad_fn=<NllLossBackward>)\n",
      "tensor(1.2260, grad_fn=<NllLossBackward>)\n",
      "tensor(0.7841, grad_fn=<NllLossBackward>)\n",
      "tensor(0.6793, grad_fn=<NllLossBackward>)\n",
      "tensor(0.6536, grad_fn=<NllLossBackward>)\n",
      "tensor(0.8576, grad_fn=<NllLossBackward>)\n",
      "tensor(0.7868, grad_fn=<NllLossBackward>)\n",
      "tensor(0.5964, grad_fn=<NllLossBackward>)\n",
      "tensor(0.5906, grad_fn=<NllLossBackward>)\n",
      "tensor(0.6271, grad_fn=<NllLossBackward>)\n",
      "tensor(1.5098, grad_fn=<NllLossBackward>)\n",
      "tensor(0.6021, grad_fn=<NllLossBackward>)\n",
      "tensor(0.5484, grad_fn=<NllLossBackward>)\n",
      "tensor(1.2206, grad_fn=<NllLossBackward>)\n",
      "tensor(0.7778, grad_fn=<NllLossBackward>)\n",
      "tensor(0.6754, grad_fn=<NllLossBackward>)\n",
      "tensor(0.6493, grad_fn=<NllLossBackward>)\n",
      "tensor(0.8515, grad_fn=<NllLossBackward>)\n",
      "tensor(0.7804, grad_fn=<NllLossBackward>)\n",
      "tensor(0.5917, grad_fn=<NllLossBackward>)\n",
      "tensor(0.5855, grad_fn=<NllLossBackward>)\n",
      "tensor(0.6224, grad_fn=<NllLossBackward>)\n",
      "tensor(1.5079, grad_fn=<NllLossBackward>)\n",
      "tensor(0.5971, grad_fn=<NllLossBackward>)\n",
      "tensor(0.5432, grad_fn=<NllLossBackward>)\n",
      "tensor(1.2154, grad_fn=<NllLossBackward>)\n",
      "tensor(0.7722, grad_fn=<NllLossBackward>)\n",
      "tensor(0.6715, grad_fn=<NllLossBackward>)\n",
      "tensor(0.6452, grad_fn=<NllLossBackward>)\n",
      "tensor(0.8458, grad_fn=<NllLossBackward>)\n"
     ]
    }
   ],
   "source": [
    "\n",
    "loss_ = []\n",
    "\n",
    "for i in range(10): #epoch\n",
    "    \n",
    "    for j in range(len(y_train)):\n",
    "        \n",
    "        X = X_train[j]\n",
    "        y = y_train[j].reshape(1)\n",
    "        \n",
    "        hidden_state = model.init_state_t()\n",
    "        cell_state = model.init_cell_t()\n",
    "        \n",
    "        for s in X: \n",
    "            output,cell_state,hidden_state = model(torch.tensor([s]).float(),hidden_state,cell_state)\n",
    "            \n",
    "        loss = criterion(output,y)\n",
    "        \n",
    "        if j%10 == 0:\n",
    "            print(loss)\n",
    "            loss_.append(loss.item())\n",
    "        \n",
    "\n",
    "        #print(\"Training epoch %d loss %d\",(i,loss.item()))\n",
    "        \n",
    "        optimizer.zero_grad()\n",
    "        loss.backward()\n",
    "        nn.utils.clip_grad_norm_(model.parameters(), 1)\n",
    "        optimizer.step()\n",
    "        "
   ]
  },
  {
   "cell_type": "code",
   "execution_count": 181,
   "metadata": {},
   "outputs": [],
   "source": [
    "%matplotlib inline"
   ]
  },
  {
   "cell_type": "code",
   "execution_count": 182,
   "metadata": {},
   "outputs": [
    {
     "data": {
      "text/plain": [
       "[<matplotlib.lines.Line2D at 0x7f1ee46c8730>]"
      ]
     },
     "execution_count": 182,
     "metadata": {},
     "output_type": "execute_result"
    },
    {
     "data": {
      "image/png": "[encoded data removed]",
      "text/plain": [
       "<Figure size 432x288 with 1 Axes>"
      ]
     },
     "metadata": {
      "needs_background": "light"
     },
     "output_type": "display_data"
    }
   ],
   "source": [
    "plt.plot(loss_)"
   ]
  },
  {
   "cell_type": "code",
   "execution_count": null,
   "metadata": {},
   "outputs": [],
   "source": []
  }
 ],
 "metadata": {
  "kernelspec": {
   "display_name": "Python 3",
   "language": "python",
   "name": "python3"
  },
  "language_info": {
   "codemirror_mode": {
    "name": "ipython",
    "version": 3
   },
   "file_extension": ".py",
   "mimetype": "text/x-python",
   "name": "python",
   "nbconvert_exporter": "python",
   "pygments_lexer": "ipython3",
   "version": "3.8.5"
  }
 },
 "nbformat": 4,
 "nbformat_minor": 4
}
