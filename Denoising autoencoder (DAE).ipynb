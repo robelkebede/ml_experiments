{
 "cells": [
  {
   "cell_type": "markdown",
   "metadata": {},
   "source": [
    "# Auto-encoder  (mnist dataset)"
   ]
  },
  {
   "cell_type": "code",
   "execution_count": 19,
   "metadata": {},
   "outputs": [],
   "source": [
    "import numpy as np\n",
    "import matplotlib.pyplot as plt\n",
    "from torch import nn\n",
    "from torch.functional import F\n",
    "import torch\n",
    "from torch.utils.data import Dataset\n",
    "from sklearn.datasets import load_digits"
   ]
  },
  {
   "cell_type": "code",
   "execution_count": 20,
   "metadata": {},
   "outputs": [],
   "source": [
    "digits = load_digits()\n",
    "\n",
    "X = digits.data\n",
    "y = digits.target"
   ]
  },
  {
   "cell_type": "code",
   "execution_count": 21,
   "metadata": {},
   "outputs": [],
   "source": [
    "images = lambda i:i.reshape(8,8)"
   ]
  },
  {
   "cell_type": "code",
   "execution_count": 22,
   "metadata": {},
   "outputs": [],
   "source": [
    "data = torch.tensor(digits.data,dtype=torch.float32)"
   ]
  },
  {
   "cell_type": "code",
   "execution_count": 60,
   "metadata": {},
   "outputs": [
    {
     "data": {
      "text/plain": [
       "<matplotlib.image.AxesImage at 0x7f89cadd8730>"
      ]
     },
     "execution_count": 60,
     "metadata": {},
     "output_type": "execute_result"
    },
    {
     "data": {
      "image/png": "[encoded data removed]",
      "text/plain": [
       "<Figure size 432x288 with 2 Axes>"
      ]
     },
     "metadata": {
      "needs_background": "light"
     },
     "output_type": "display_data"
    }
   ],
   "source": [
    "# create a noisy data\n",
    "\n",
    "class CleanAndNoisy(Dataset):\n",
    "    def __init__(self):\n",
    "        \n",
    "        self.clean_data = data\n",
    "        \n",
    "    def __len__(self):\n",
    "        return len(self.clean_data)\n",
    "    \n",
    "    def noise(self,idx):\n",
    "        # gaussian noise\n",
    "        \n",
    "        mean = 0\n",
    "        std = 2\n",
    "        \n",
    "        return torch.normal(mean,std,self.clean_data[idx].shape)\n",
    "    \n",
    "    def __getitem__(self,idx):\n",
    "        return self.clean_data[idx],self.noise(idx)\n",
    "    \n",
    "dataset = CleanAndNoisy()\n",
    "\n",
    "fig,ax = plt.subplots(1,2)\n",
    "ax[0].imshow(dataset[0][0].reshape(8,8))\n",
    "ax[1].imshow(dataset[0][1].reshape(8,8))"
   ]
  },
  {
   "cell_type": "code",
   "execution_count": 61,
   "metadata": {},
   "outputs": [],
   "source": [
    "class Net(nn.Module):\n",
    "    \n",
    "    def __init__(self):\n",
    "        \n",
    "        super(Net,self).__init__()\n",
    "        self.enc = self.encoder(8,4)\n",
    "        self.enc1 = self.encoder(4,2)\n",
    "        self.dec1 = self.decoder(2,4)\n",
    "        self.dec = self.decoder(4,8)\n",
    "    \n",
    "    def encoder(self,inp,out):\n",
    "        return nn.Linear(inp,out) # fix the dimentions\n",
    "    \n",
    "    def decoder(self,inp,out):\n",
    "        return nn.Linear(inp,out)\n",
    "    \n",
    "    def forward(self,x):\n",
    "        \n",
    "        out = F.relu(self.enc(x))\n",
    "        out = F.relu(self.enc1(out))\n",
    "        out = F.relu(self.dec1(out))\n",
    "        out = F.relu(self.dec(out))\n",
    "        \n",
    "        return out"
   ]
  },
  {
   "cell_type": "code",
   "execution_count": 64,
   "metadata": {},
   "outputs": [
    {
     "name": "stdout",
     "output_type": "stream",
     "text": [
      "Net(\n",
      "  (enc): Linear(in_features=8, out_features=4, bias=True)\n",
      "  (enc1): Linear(in_features=4, out_features=2, bias=True)\n",
      "  (dec1): Linear(in_features=2, out_features=4, bias=True)\n",
      "  (dec): Linear(in_features=4, out_features=8, bias=True)\n",
      ")\n"
     ]
    }
   ],
   "source": [
    "model = Net()\n",
    "print(model)"
   ]
  },
  {
   "cell_type": "code",
   "execution_count": 65,
   "metadata": {},
   "outputs": [],
   "source": [
    "params = [i for i in model.parameters()]"
   ]
  },
  {
   "cell_type": "code",
   "execution_count": 66,
   "metadata": {},
   "outputs": [],
   "source": [
    "creatrion = nn.L1Loss()\n",
    "optimizer = torch.optim.Adam(model.parameters(), lr=0.0001)"
   ]
  },
  {
   "cell_type": "code",
   "execution_count": 67,
   "metadata": {},
   "outputs": [],
   "source": [
    "load_data = torch.utils.data.DataLoader(dataset,batch_size = 32)"
   ]
  },
  {
   "cell_type": "code",
   "execution_count": 68,
   "metadata": {},
   "outputs": [
    {
     "name": "stdout",
     "output_type": "stream",
     "text": [
      "<torch.utils.data.dataloader.DataLoader object at 0x7f89cad6f6d0>\n"
     ]
    }
   ],
   "source": [
    "print(load_data)"
   ]
  },
  {
   "cell_type": "code",
   "execution_count": 70,
   "metadata": {},
   "outputs": [
    {
     "name": "stdout",
     "output_type": "stream",
     "text": [
      "4.775476455688477\n",
      "4.771825790405273\n",
      "4.769201755523682\n",
      "4.766827583312988\n",
      "4.7645063400268555\n",
      "4.762026786804199\n",
      "4.759769916534424\n",
      "4.7571611404418945\n",
      "4.754639625549316\n",
      "4.751893997192383\n"
     ]
    }
   ],
   "source": [
    "# training\n",
    "\n",
    "l1_loss = []\n",
    "\n",
    "\n",
    "for i in range(1000):\n",
    "       \n",
    "    clean_image = next(iter(load_data))[0].reshape(32,8,8)\n",
    "    noisy_image = next(iter(load_data))[1].reshape(32,8,8)\n",
    "\n",
    "    output = model(noisy_image)\n",
    "    \n",
    "    loss = creatrion(clean_image,output)\n",
    "    \n",
    "    \n",
    "    optimizer.zero_grad()\n",
    "    \n",
    "    loss.backward()\n",
    "    \n",
    "    optimizer.step()\n",
    "    \n",
    "    if i%100 == 0:\n",
    "        l1_loss.append(loss.item())\n",
    "        print(loss.item())\n"
   ]
  },
  {
   "cell_type": "code",
   "execution_count": 71,
   "metadata": {},
   "outputs": [],
   "source": [
    "%matplotlib inline"
   ]
  },
  {
   "cell_type": "code",
   "execution_count": 72,
   "metadata": {},
   "outputs": [
    {
     "data": {
      "text/plain": [
       "[<matplotlib.lines.Line2D at 0x7f89ca4be040>]"
      ]
     },
     "execution_count": 72,
     "metadata": {},
     "output_type": "execute_result"
    },
    {
     "data": {
      "image/png": "[encoded data removed]",
      "text/plain": [
       "<Figure size 432x288 with 1 Axes>"
      ]
     },
     "metadata": {
      "needs_background": "light"
     },
     "output_type": "display_data"
    }
   ],
   "source": [
    "plt.plot(l1_loss)"
   ]
  },
  {
   "cell_type": "code",
   "execution_count": 73,
   "metadata": {},
   "outputs": [
    {
     "data": {
      "text/plain": [
       "Text(0.5, 1.0, 'Representation Space')"
      ]
     },
     "execution_count": 73,
     "metadata": {},
     "output_type": "execute_result"
    },
    {
     "data": {
      "image/png": "[encoded data removed]",
      "text/plain": [
       "<Figure size 432x288 with 1 Axes>"
      ]
     },
     "metadata": {
      "needs_background": "light"
     },
     "output_type": "display_data"
    }
   ],
   "source": [
    "# the representation space output\n",
    "\n",
    "params = [i for i in model.parameters()]\n",
    "\n",
    "fig,ax = plt.subplots(1,1)\n",
    "\n",
    "ax.imshow(params[2].detach().numpy())\n",
    "ax.set_title(\"Representation Space\")\n",
    "#print(params)"
   ]
  },
  {
   "cell_type": "code",
   "execution_count": 74,
   "metadata": {},
   "outputs": [
    {
     "data": {
      "text/plain": [
       "Text(0.5, 1.0, 'reconstracted image')"
      ]
     },
     "execution_count": 74,
     "metadata": {},
     "output_type": "execute_result"
    },
    {
     "data": {
      "image/png": "[encoded data removed]",
      "text/plain": [
       "<Figure size 432x288 with 2 Axes>"
      ]
     },
     "metadata": {
      "needs_background": "light"
     },
     "output_type": "display_data"
    }
   ],
   "source": [
    "test_image = data[0].reshape(8,8)\n",
    "output_from_model = model(test_image)\n",
    "\n",
    "fix,ax = plt.subplots(1,2)\n",
    "\n",
    "ax[0].imshow(test_image.detach().numpy())\n",
    "ax[1].imshow(output_from_model.detach().numpy())\n",
    "\n",
    "ax[0].set_title(\"original image\")\n",
    "ax[1].set_title(\"reconstracted image\")"
   ]
  },
  {
   "cell_type": "code",
   "execution_count": null,
   "metadata": {},
   "outputs": [],
   "source": []
  }
 ],
 "metadata": {
  "kernelspec": {
   "display_name": "Python 3",
   "language": "python",
   "name": "python3"
  },
  "language_info": {
   "codemirror_mode": {
    "name": "ipython",
    "version": 3
   },
   "file_extension": ".py",
   "mimetype": "text/x-python",
   "name": "python",
   "nbconvert_exporter": "python",
   "pygments_lexer": "ipython3",
   "version": "3.8.5"
  }
 },
 "nbformat": 4,
 "nbformat_minor": 4
}
