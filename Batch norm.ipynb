{
 "cells": [
  {
   "cell_type": "code",
   "execution_count": 12,
   "metadata": {},
   "outputs": [],
   "source": [
    "import matplotlib.pyplot as plt \n",
    "import numpy as np\n",
    "import torch\n",
    "from torch import nn\n",
    "from sklearn.datasets import load_iris\n",
    "from torch.utils.data import Dataset,DataLoader\n",
    "from sklearn import preprocessing\n",
    "from torch.autograd import Variable"
   ]
  },
  {
   "cell_type": "code",
   "execution_count": 13,
   "metadata": {},
   "outputs": [],
   "source": [
    "iris = load_iris()\n",
    "X = iris.data\n",
    "y = torch.from_numpy(iris.target)"
   ]
  },
  {
   "cell_type": "code",
   "execution_count": 14,
   "metadata": {},
   "outputs": [],
   "source": [
    "# normalize\n"
   ]
  },
  {
   "cell_type": "code",
   "execution_count": 15,
   "metadata": {},
   "outputs": [],
   "source": [
    "class dataset(Dataset):\n",
    "    def __init__(self,X,y):\n",
    "        scaler = preprocessing.StandardScaler().fit(X)\n",
    "        self.X = torch.from_numpy(scaler.transform(X)).float()\n",
    "        self.y = y\n",
    "    def __len__(self):\n",
    "        return len(self.y)\n",
    "    \n",
    "    \n",
    "    def __getitem__(self,idx):\n",
    "        \n",
    "        return self.X[idx],self.y[idx]\n",
    "        "
   ]
  },
  {
   "cell_type": "code",
   "execution_count": 22,
   "metadata": {},
   "outputs": [],
   "source": [
    "class _BatchNorm(nn.Module):\n",
    "    def __init__(self,input_shape):\n",
    "        super(_BatchNorm,self).__init__()\n",
    "        \n",
    "        self.eps = 0.001\n",
    "                \n",
    "        self.gamma = Variable(torch.ones(5,3))\n",
    "        self.mu = Variable(torch.ones(5,3))\n",
    "        \n",
    "        \n",
    "    def forward(self,x):\n",
    "        sigma,mu = torch.var_mean(x)\n",
    "        \n",
    "        norm_x = (x - mu)/torch.sqrt(sigma + self.eps)        \n",
    "        \n",
    "        norm_output = (self.gamma * norm_x) + self.mu\n",
    "        \n",
    "        return norm_output"
   ]
  },
  {
   "cell_type": "code",
   "execution_count": 23,
   "metadata": {},
   "outputs": [],
   "source": [
    "class Network(nn.Module):\n",
    "    def __init__(self):\n",
    "        super(Network,self).__init__()\n",
    "        self.l1 = nn.Linear(4,3)\n",
    "        self.l2 = nn.Linear(3,3)\n",
    "        self.soft = nn.Softmax()\n",
    "        self.batch = _BatchNorm(2)\n",
    "        \n",
    "    def forward(self,x):\n",
    "        output = self.l1(x)\n",
    "           \n",
    "        output = self.batch(output)\n",
    "       \n",
    "        output = self.l2(output)\n",
    "        \n",
    "        return self.soft(output)\n",
    "    \n",
    "        "
   ]
  },
  {
   "cell_type": "code",
   "execution_count": 24,
   "metadata": {},
   "outputs": [],
   "source": [
    "network = Network()\n",
    "criterion = nn.CrossEntropyLoss()\n",
    "optimizer = torch.optim.Adam(network.parameters(),0.01)"
   ]
  },
  {
   "cell_type": "code",
   "execution_count": 25,
   "metadata": {},
   "outputs": [],
   "source": [
    "dset = dataset(X,y)\n",
    "load = DataLoader(dset,batch_size=5)\n",
    "#load = iter(load)"
   ]
  },
  {
   "cell_type": "code",
   "execution_count": 26,
   "metadata": {},
   "outputs": [
    {
     "name": "stdout",
     "output_type": "stream",
     "text": [
      "tensor(0.9982, grad_fn=<NllLossBackward>)\n",
      "tensor(0.9756, grad_fn=<NllLossBackward>)\n",
      "tensor(0.9534, grad_fn=<NllLossBackward>)\n",
      "tensor(0.9314, grad_fn=<NllLossBackward>)\n",
      "tensor(0.9095, grad_fn=<NllLossBackward>)\n",
      "tensor(0.8876, grad_fn=<NllLossBackward>)\n",
      "tensor(0.8660, grad_fn=<NllLossBackward>)\n",
      "tensor(0.8449, grad_fn=<NllLossBackward>)\n",
      "tensor(0.8245, grad_fn=<NllLossBackward>)\n",
      "tensor(0.8049, grad_fn=<NllLossBackward>)\n"
     ]
    },
    {
     "name": "stderr",
     "output_type": "stream",
     "text": [
      "<ipython-input-23-83fe6248fcae>:16: UserWarning: Implicit dimension choice for softmax has been deprecated. Change the call to include dim=X as an argument.\n",
      "  return self.soft(output)\n"
     ]
    }
   ],
   "source": [
    "# trining\n",
    "loss_ = []\n",
    "for i in range(10):\n",
    "    for m,(X,y) in enumerate(load):\n",
    "        \n",
    "        output = network(X)\n",
    "    \n",
    "        \n",
    "        loss = criterion(output,y)\n",
    "\n",
    "        print(loss)\n",
    "        loss_.append(loss.item())\n",
    "\n",
    "        optimizer.zero_grad()\n",
    "        loss.backward()\n",
    "        optimizer.step()\n",
    "\n",
    "    "
   ]
  },
  {
   "cell_type": "code",
   "execution_count": 27,
   "metadata": {},
   "outputs": [
    {
     "data": {
      "text/plain": [
       "[<matplotlib.lines.Line2D at 0x7f196dfb4550>]"
      ]
     },
     "execution_count": 27,
     "metadata": {},
     "output_type": "execute_result"
    },
    {
     "data": {
      "image/png": "[encoded data removed]",
      "text/plain": [
       "<Figure size 432x288 with 1 Axes>"
      ]
     },
     "metadata": {
      "needs_background": "light"
     },
     "output_type": "display_data"
    }
   ],
   "source": [
    "plt.plot(loss_)"
   ]
  },
  {
   "cell_type": "code",
   "execution_count": null,
   "metadata": {},
   "outputs": [],
   "source": []
  },
  {
   "cell_type": "code",
   "execution_count": null,
   "metadata": {},
   "outputs": [],
   "source": []
  }
 ],
 "metadata": {
  "kernelspec": {
   "display_name": "Python 3",
   "language": "python",
   "name": "python3"
  },
  "language_info": {
   "codemirror_mode": {
    "name": "ipython",
    "version": 3
   },
   "file_extension": ".py",
   "mimetype": "text/x-python",
   "name": "python",
   "nbconvert_exporter": "python",
   "pygments_lexer": "ipython3",
   "version": "3.8.5"
  }
 },
 "nbformat": 4,
 "nbformat_minor": 4
}
