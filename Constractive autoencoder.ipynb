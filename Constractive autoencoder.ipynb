{
 "cells": [
  {
   "cell_type": "markdown",
   "metadata": {},
   "source": [
    "# Constractive autoencoder"
   ]
  },
  {
   "cell_type": "code",
   "execution_count": 1,
   "metadata": {},
   "outputs": [],
   "source": [
    "import numpy as np\n",
    "import matplotlib.pyplot as plt\n",
    "from torch import nn\n",
    "import torch\n",
    "from sklearn.datasets import load_digits"
   ]
  },
  {
   "cell_type": "code",
   "execution_count": 2,
   "metadata": {},
   "outputs": [],
   "source": [
    "digits = load_digits()\n",
    "\n",
    "X = digits.data\n",
    "y = digits.target"
   ]
  },
  {
   "cell_type": "code",
   "execution_count": 3,
   "metadata": {},
   "outputs": [],
   "source": [
    "images = lambda i:i.reshape(8,8)"
   ]
  },
  {
   "cell_type": "code",
   "execution_count": 4,
   "metadata": {},
   "outputs": [],
   "source": [
    "data = torch.tensor(digits.data,dtype=torch.float32)"
   ]
  },
  {
   "cell_type": "code",
   "execution_count": 5,
   "metadata": {},
   "outputs": [],
   "source": [
    "class Net(nn.Module):\n",
    "    \n",
    "    def __init__(self):\n",
    "        \n",
    "        super(Net,self).__init__()\n",
    "        self.enc = self.encoder(8,4)\n",
    "        self.enc1 = self.encoder(4,2)\n",
    "        self.dec1 = self.decoder(2,4)\n",
    "        self.dec = self.decoder(4,8)\n",
    "    \n",
    "    def encoder(self,inp,out):\n",
    "        return nn.Linear(inp,out)\n",
    "    \n",
    "    def decoder(self,inp,out):\n",
    "        return nn.Linear(inp,out)\n",
    "    \n",
    "    def forward(self,x):\n",
    "        \n",
    "        out = self.enc(x)\n",
    "        out = self.enc1(out)\n",
    "        out = self.dec1(out)\n",
    "        out = self.dec(out)\n",
    "        \n",
    "        return out"
   ]
  },
  {
   "cell_type": "code",
   "execution_count": 6,
   "metadata": {},
   "outputs": [
    {
     "name": "stdout",
     "output_type": "stream",
     "text": [
      "Net(\n",
      "  (enc): Linear(in_features=8, out_features=4, bias=True)\n",
      "  (enc1): Linear(in_features=4, out_features=2, bias=True)\n",
      "  (dec1): Linear(in_features=2, out_features=4, bias=True)\n",
      "  (dec): Linear(in_features=4, out_features=8, bias=True)\n",
      ")\n"
     ]
    }
   ],
   "source": [
    "model = Net()\n",
    "print(model)"
   ]
  },
  {
   "cell_type": "code",
   "execution_count": 7,
   "metadata": {},
   "outputs": [],
   "source": [
    "# extend the L2 loss function \n",
    "\n",
    "class ConstractiveLoss(nn.L1Loss):\n",
    "    def __init__(self):\n",
    "        \n",
    "        super(ConstractiveLoss,self).__init__()\n",
    "        \n",
    "        \n",
    "    def forward(self,inputs,output):\n",
    "\n",
    "        jacobian = torch.autograd.functional.jacobian(model,inputs)\n",
    "        norm = torch.norm(jacobian,'fro')\n",
    "        la = 0.0005\n",
    "        \n",
    "        sub = (inputs - output) \n",
    "        lanorm = la*norm\n",
    "        \n",
    "        J = torch.sum(sub+lanorm)\n",
    "        return J\n",
    "        \n",
    "        "
   ]
  },
  {
   "cell_type": "code",
   "execution_count": 8,
   "metadata": {},
   "outputs": [],
   "source": [
    "creatrion = ConstractiveLoss()\n",
    "optimizer = torch.optim.Adam(model.parameters(), lr=0.0001)"
   ]
  },
  {
   "cell_type": "code",
   "execution_count": 9,
   "metadata": {},
   "outputs": [],
   "source": [
    "load_data = torch.utils.data.DataLoader(data,batch_size = 32)"
   ]
  },
  {
   "cell_type": "code",
   "execution_count": 10,
   "metadata": {},
   "outputs": [
    {
     "name": "stdout",
     "output_type": "stream",
     "text": [
      "<torch.utils.data.dataloader.DataLoader object at 0x7f3e154d7eb0>\n"
     ]
    }
   ],
   "source": [
    "print(load_data)"
   ]
  },
  {
   "cell_type": "code",
   "execution_count": 11,
   "metadata": {
    "scrolled": true
   },
   "outputs": [
    {
     "name": "stdout",
     "output_type": "stream",
     "text": [
      "9538.6748046875\n",
      "9536.1376953125\n",
      "9533.5986328125\n",
      "9531.05859375\n",
      "9528.5185546875\n",
      "9525.9765625\n",
      "9523.43359375\n",
      "9520.890625\n",
      "9518.3447265625\n",
      "9515.798828125\n",
      "9513.2509765625\n",
      "9510.7021484375\n",
      "9508.1513671875\n",
      "9505.5986328125\n",
      "9503.0458984375\n",
      "9500.4921875\n",
      "9497.935546875\n",
      "9495.3779296875\n",
      "9492.818359375\n",
      "9490.2568359375\n",
      "9487.6953125\n",
      "9485.130859375\n",
      "9482.5654296875\n",
      "9479.9990234375\n",
      "9477.427734375\n",
      "9474.8564453125\n",
      "9472.2822265625\n",
      "9469.7060546875\n",
      "9467.1279296875\n",
      "9464.5478515625\n",
      "9461.9638671875\n",
      "9459.37890625\n",
      "9456.791015625\n",
      "9454.19921875\n",
      "9451.6044921875\n",
      "9449.0087890625\n",
      "9446.4091796875\n",
      "9443.8056640625\n",
      "9441.2001953125\n",
      "9438.58984375\n",
      "9435.9755859375\n",
      "9433.357421875\n",
      "9430.73828125\n",
      "9428.1123046875\n",
      "9425.4833984375\n",
      "9422.8505859375\n",
      "9420.2109375\n",
      "9417.568359375\n",
      "9414.9208984375\n",
      "9412.2685546875\n",
      "9409.611328125\n",
      "9406.9482421875\n",
      "9404.279296875\n",
      "9401.603515625\n",
      "9398.923828125\n",
      "9396.2373046875\n",
      "9393.5439453125\n",
      "9390.8447265625\n",
      "9388.138671875\n",
      "9385.427734375\n",
      "9382.708984375\n",
      "9379.982421875\n",
      "9377.2490234375\n",
      "9374.5087890625\n",
      "9371.7607421875\n",
      "9369.005859375\n",
      "9366.2431640625\n",
      "9363.47265625\n",
      "9360.693359375\n",
      "9357.9072265625\n",
      "9355.11328125\n",
      "9352.3125\n",
      "9349.5\n",
      "9346.68359375\n",
      "9343.85546875\n",
      "9341.01953125\n",
      "9338.17578125\n",
      "9335.322265625\n",
      "9332.4609375\n",
      "9329.5908203125\n",
      "9326.7119140625\n",
      "9323.8232421875\n",
      "9320.927734375\n",
      "9318.021484375\n",
      "9315.1064453125\n",
      "9312.181640625\n",
      "9309.2470703125\n",
      "9306.3046875\n",
      "9303.3515625\n",
      "9300.3896484375\n",
      "9297.4189453125\n",
      "9294.4375\n",
      "9291.447265625\n",
      "9288.4462890625\n",
      "9285.4365234375\n",
      "9282.416015625\n",
      "9279.3857421875\n",
      "9276.3466796875\n",
      "9273.296875\n",
      "9270.23828125\n"
     ]
    }
   ],
   "source": [
    "# training\n",
    "\n",
    "from tqdm.notebook import tqdm \n",
    "\n",
    "cons_loss = []\n",
    "\n",
    "\n",
    "for i in range(100):\n",
    "       \n",
    "    image = next(iter(load_data)).reshape(32,8,8)\n",
    "    \n",
    "    output = model(image)\n",
    "    \n",
    "    loss = creatrion(image,output)\n",
    "    \n",
    "    \n",
    "    optimizer.zero_grad()\n",
    "    \n",
    "    loss.backward()\n",
    "    \n",
    "    optimizer.step()\n",
    "    \n",
    "   # if i%100 == 0:\n",
    "    cons_loss.append(loss.item())\n",
    "    #print(loss.item())\n",
    "    print(loss.item())\n"
   ]
  },
  {
   "cell_type": "code",
   "execution_count": 24,
   "metadata": {},
   "outputs": [],
   "source": [
    "%matplotlib inline"
   ]
  },
  {
   "cell_type": "code",
   "execution_count": 12,
   "metadata": {},
   "outputs": [
    {
     "data": {
      "text/plain": [
       "[<matplotlib.lines.Line2D at 0x7f3ddf03fe80>]"
      ]
     },
     "execution_count": 12,
     "metadata": {},
     "output_type": "execute_result"
    },
    {
     "data": {
      "image/png": "[encoded data removed]",
      "text/plain": [
       "<Figure size 432x288 with 1 Axes>"
      ]
     },
     "metadata": {
      "needs_background": "light"
     },
     "output_type": "display_data"
    }
   ],
   "source": [
    "plt.plot(cons_loss)"
   ]
  },
  {
   "cell_type": "code",
   "execution_count": 26,
   "metadata": {},
   "outputs": [
    {
     "data": {
      "text/plain": [
       "Text(0.5, 1.0, 'Representation Space')"
      ]
     },
     "execution_count": 26,
     "metadata": {},
     "output_type": "execute_result"
    },
    {
     "data": {
      "image/png": "[encoded data removed]",
      "text/plain": [
       "<Figure size 432x288 with 1 Axes>"
      ]
     },
     "metadata": {
      "needs_background": "light"
     },
     "output_type": "display_data"
    }
   ],
   "source": [
    "# the representation space output\n",
    "\n",
    "params = [i for i in model.parameters()]\n",
    "\n",
    "fig,ax = plt.subplots(1,1)\n",
    "\n",
    "ax.imshow(params[2].detach().numpy())\n",
    "ax.set_title(\"Representation Space\")\n",
    "#print(params)"
   ]
  },
  {
   "cell_type": "code",
   "execution_count": 27,
   "metadata": {},
   "outputs": [
    {
     "data": {
      "text/plain": [
       "Text(0.5, 1.0, 'reconstracted image')"
      ]
     },
     "execution_count": 27,
     "metadata": {},
     "output_type": "execute_result"
    },
    {
     "data": {
      "image/png": "[encoded data removed]",
      "text/plain": [
       "<Figure size 432x288 with 2 Axes>"
      ]
     },
     "metadata": {
      "needs_background": "light"
     },
     "output_type": "display_data"
    }
   ],
   "source": [
    "test_image = data[0].reshape(8,8)\n",
    "output_from_model = model(test_image)\n",
    "\n",
    "fix,ax = plt.subplots(1,2)\n",
    "\n",
    "ax[0].imshow(test_image.detach().numpy())\n",
    "ax[1].imshow(output_from_model.detach().numpy())\n",
    "\n",
    "ax[0].set_title(\"original image\")\n",
    "ax[1].set_title(\"reconstracted image\") # training is slow "
   ]
  },
  {
   "cell_type": "code",
   "execution_count": null,
   "metadata": {},
   "outputs": [],
   "source": []
  }
 ],
 "metadata": {
  "kernelspec": {
   "display_name": "Python 3",
   "language": "python",
   "name": "python3"
  },
  "language_info": {
   "codemirror_mode": {
    "name": "ipython",
    "version": 3
   },
   "file_extension": ".py",
   "mimetype": "text/x-python",
   "name": "python",
   "nbconvert_exporter": "python",
   "pygments_lexer": "ipython3",
   "version": "3.8.5"
  }
 },
 "nbformat": 4,
 "nbformat_minor": 4
}
