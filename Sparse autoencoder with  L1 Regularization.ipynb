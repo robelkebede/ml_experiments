{
 "cells": [
  {
   "cell_type": "markdown",
   "metadata": {},
   "source": [
    "# Auto-encoder  (mnist dataset)"
   ]
  },
  {
   "cell_type": "code",
   "execution_count": 144,
   "metadata": {},
   "outputs": [],
   "source": [
    "import numpy as np\n",
    "import matplotlib.pyplot as plt\n",
    "from torch import nn\n",
    "from torch.functional import F\n",
    "import torch\n",
    "from sklearn.datasets import load_digits"
   ]
  },
  {
   "cell_type": "code",
   "execution_count": 145,
   "metadata": {},
   "outputs": [],
   "source": [
    "digits = load_digits()\n",
    "\n",
    "X = digits.data\n",
    "y = digits.target"
   ]
  },
  {
   "cell_type": "code",
   "execution_count": 146,
   "metadata": {},
   "outputs": [],
   "source": [
    "images = lambda i:i.reshape(8,8)"
   ]
  },
  {
   "cell_type": "code",
   "execution_count": 147,
   "metadata": {},
   "outputs": [],
   "source": [
    "data = torch.tensor(digits.data,dtype=torch.float32)"
   ]
  },
  {
   "cell_type": "code",
   "execution_count": 148,
   "metadata": {},
   "outputs": [],
   "source": [
    "class Net(nn.Module):\n",
    "    \n",
    "    def __init__(self):\n",
    "        \n",
    "        super(Net,self).__init__()\n",
    "        self.enc = self.encoder(8,4)\n",
    "        self.enc1 = self.encoder(4,2)\n",
    "        self.dec1 = self.decoder(2,4)\n",
    "        self.dec = self.decoder(4,8)\n",
    "    \n",
    "    def encoder(self,inp,out):\n",
    "        return nn.Linear(inp,out) # fix the dimentions\n",
    "    \n",
    "    def decoder(self,inp,out):\n",
    "        return nn.Linear(inp,out)\n",
    "    \n",
    "    def forward(self,x):\n",
    "        \n",
    "        out = F.relu(self.enc(x))\n",
    "        out = F.relu(self.enc1(out))\n",
    "        out = F.relu(self.dec1(out))\n",
    "        out = F.relu(self.dec(out))\n",
    "        \n",
    "        return out"
   ]
  },
  {
   "cell_type": "code",
   "execution_count": 149,
   "metadata": {},
   "outputs": [
    {
     "name": "stdout",
     "output_type": "stream",
     "text": [
      "Net(\n",
      "  (enc): Linear(in_features=8, out_features=4, bias=True)\n",
      "  (enc1): Linear(in_features=4, out_features=2, bias=True)\n",
      "  (dec1): Linear(in_features=2, out_features=4, bias=True)\n",
      "  (dec): Linear(in_features=4, out_features=8, bias=True)\n",
      ")\n"
     ]
    }
   ],
   "source": [
    "model = Net()\n",
    "print(model)"
   ]
  },
  {
   "cell_type": "code",
   "execution_count": 150,
   "metadata": {},
   "outputs": [],
   "source": [
    "params = [i for i in model.parameters()]"
   ]
  },
  {
   "cell_type": "code",
   "execution_count": 151,
   "metadata": {},
   "outputs": [],
   "source": [
    "# Sparse regularizer\n",
    "\n",
    "class SparseLoss(nn.L1Loss):\n",
    "    def __init__(self):\n",
    "        \n",
    "        super(SparseLoss,self).__init__()\n",
    "\n",
    "        \n",
    "    def forward(self,inputs,output,model):\n",
    "        \n",
    "        \n",
    "        \n",
    "        def sparse_loss(autoencoder, images):\n",
    "            model_children = [i for i in model.children()]\n",
    "            loss = 0\n",
    "            values = images\n",
    "            for i in range(len(model_children)):\n",
    "                values = F.relu((model_children[i](values)))\n",
    "                loss += torch.mean(torch.abs(values))\n",
    "            return loss\n",
    "        \n",
    "        mse_loss = F.mse_loss(inputs, output)\n",
    "        lam = 0.001\n",
    "        l1_loss = sparse_loss(model,inputs)\n",
    "        \n",
    "        final_loss = mse_loss + lam * l1_loss\n",
    "\n",
    "        return final_loss\n",
    "        \n",
    "   "
   ]
  },
  {
   "cell_type": "code",
   "execution_count": 152,
   "metadata": {},
   "outputs": [],
   "source": [
    "creatrion = SparseLoss()\n",
    "optimizer = torch.optim.Adam(model.parameters(), lr=0.0001)"
   ]
  },
  {
   "cell_type": "code",
   "execution_count": 153,
   "metadata": {},
   "outputs": [],
   "source": [
    "load_data = torch.utils.data.DataLoader(data,batch_size = 32)"
   ]
  },
  {
   "cell_type": "code",
   "execution_count": 154,
   "metadata": {},
   "outputs": [
    {
     "name": "stdout",
     "output_type": "stream",
     "text": [
      "<torch.utils.data.dataloader.DataLoader object at 0x7f8bc4e203d0>\n"
     ]
    }
   ],
   "source": [
    "print(load_data)"
   ]
  },
  {
   "cell_type": "code",
   "execution_count": 155,
   "metadata": {},
   "outputs": [
    {
     "name": "stdout",
     "output_type": "stream",
     "text": [
      "57.802635192871094\n",
      "57.597652435302734\n",
      "57.32842254638672\n",
      "57.007728576660156\n",
      "56.637413024902344\n",
      "56.198585510253906\n",
      "55.66383361816406\n",
      "54.97966003417969\n",
      "54.048213958740234\n",
      "52.74500274658203\n"
     ]
    }
   ],
   "source": [
    "# training\n",
    "\n",
    "l1_loss = []\n",
    "\n",
    "\n",
    "for i in range(1000):\n",
    "       \n",
    "    image = next(iter(load_data)).reshape(32,8,8)\n",
    "    \n",
    "    output = model(image)\n",
    "    \n",
    "    loss = creatrion(image,output,model)\n",
    "    \n",
    "    \n",
    "    optimizer.zero_grad()\n",
    "    \n",
    "    loss.backward()\n",
    "    \n",
    "    optimizer.step()\n",
    "    \n",
    "    if i%100 == 0:\n",
    "        l1_loss.append(loss.item())\n",
    "        print(loss.item())\n"
   ]
  },
  {
   "cell_type": "code",
   "execution_count": 156,
   "metadata": {},
   "outputs": [],
   "source": [
    "%matplotlib inline"
   ]
  },
  {
   "cell_type": "code",
   "execution_count": 157,
   "metadata": {},
   "outputs": [
    {
     "data": {
      "text/plain": [
       "[<matplotlib.lines.Line2D at 0x7f8bc40ccbb0>]"
      ]
     },
     "execution_count": 157,
     "metadata": {},
     "output_type": "execute_result"
    },
    {
     "data": {
      "image/png": "[encoded data removed]",
      "text/plain": [
       "<Figure size 432x288 with 1 Axes>"
      ]
     },
     "metadata": {
      "needs_background": "light"
     },
     "output_type": "display_data"
    }
   ],
   "source": [
    "plt.plot(l1_loss)"
   ]
  },
  {
   "cell_type": "code",
   "execution_count": 158,
   "metadata": {},
   "outputs": [
    {
     "data": {
      "text/plain": [
       "Text(0.5, 1.0, 'Representation Space')"
      ]
     },
     "execution_count": 158,
     "metadata": {},
     "output_type": "execute_result"
    },
    {
     "data": {
      "image/png": "[encoded data removed]",
      "text/plain": [
       "<Figure size 432x288 with 1 Axes>"
      ]
     },
     "metadata": {
      "needs_background": "light"
     },
     "output_type": "display_data"
    }
   ],
   "source": [
    "# the representation space output\n",
    "\n",
    "params = [i for i in model.parameters()]\n",
    "\n",
    "fig,ax = plt.subplots(1,1)\n",
    "\n",
    "ax.imshow(params[2].detach().numpy())\n",
    "ax.set_title(\"Representation Space\")\n",
    "#print(params)"
   ]
  },
  {
   "cell_type": "code",
   "execution_count": 159,
   "metadata": {},
   "outputs": [
    {
     "data": {
      "text/plain": [
       "Text(0.5, 1.0, 'reconstracted image')"
      ]
     },
     "execution_count": 159,
     "metadata": {},
     "output_type": "execute_result"
    },
    {
     "data": {
      "image/png": "[encoded data removed]",
      "text/plain": [
       "<Figure size 432x288 with 2 Axes>"
      ]
     },
     "metadata": {
      "needs_background": "light"
     },
     "output_type": "display_data"
    }
   ],
   "source": [
    "test_image = data[0].reshape(8,8)\n",
    "output_from_model = model(test_image)\n",
    "\n",
    "fix,ax = plt.subplots(1,2)\n",
    "\n",
    "ax[0].imshow(test_image.detach().numpy())\n",
    "ax[1].imshow(output_from_model.detach().numpy())\n",
    "\n",
    "ax[0].set_title(\"original image\")\n",
    "ax[1].set_title(\"reconstracted image\")"
   ]
  },
  {
   "cell_type": "code",
   "execution_count": null,
   "metadata": {},
   "outputs": [],
   "source": []
  }
 ],
 "metadata": {
  "kernelspec": {
   "display_name": "Python 3",
   "language": "python",
   "name": "python3"
  },
  "language_info": {
   "codemirror_mode": {
    "name": "ipython",
    "version": 3
   },
   "file_extension": ".py",
   "mimetype": "text/x-python",
   "name": "python",
   "nbconvert_exporter": "python",
   "pygments_lexer": "ipython3",
   "version": "3.8.5"
  }
 },
 "nbformat": 4,
 "nbformat_minor": 4
}
