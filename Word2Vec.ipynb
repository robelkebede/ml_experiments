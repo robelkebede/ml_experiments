{
 "cells": [
  {
   "cell_type": "code",
   "execution_count": 1,
   "metadata": {},
   "outputs": [],
   "source": [
    "import numpy as np\n",
    "import torch\n",
    "from torch import nn\n",
    "from torch.utils.data import Dataset,DataLoader\n",
    "import matplotlib.pyplot as plt\n"
   ]
  },
  {
   "cell_type": "code",
   "execution_count": 2,
   "metadata": {},
   "outputs": [],
   "source": [
    "# dataset\n",
    "\n",
    "char = \"A   B   C   D   E   F   G   H   I   J   K   L   M   N   O   P   Q   R   S   T   U   V   W   X   Y   Z\"\n",
    "char = char.split('   ')\n"
   ]
  },
  {
   "cell_type": "code",
   "execution_count": 3,
   "metadata": {},
   "outputs": [],
   "source": [
    "def one_hot(val):\n",
    "    output = np.zeros(len(char))\n",
    "    \n",
    "    output[val] = 1\n",
    "    \n",
    "    return output"
   ]
  },
  {
   "cell_type": "code",
   "execution_count": 4,
   "metadata": {},
   "outputs": [],
   "source": [
    "window_size = 2\n",
    "def window(a, step=1):\n",
    "    n = len(a)\n",
    "    return [a[i:i+window_size+1:step] for i in range(n) if len(a[i:i+3:step]) == 3 ]"
   ]
  },
  {
   "cell_type": "code",
   "execution_count": 5,
   "metadata": {},
   "outputs": [],
   "source": [
    "# generate the training data\n",
    "\n",
    "class dataset(Dataset):\n",
    "    def __init__(self,char):\n",
    "        self.char = char\n",
    "        self.num = {self.char[i]:i for i in range(len(self.char)) }\n",
    "        \n",
    "        \n",
    "    def ds(self):\n",
    "\n",
    "        # window step size 1\n",
    "        win = window(self.char)\n",
    "\n",
    "        # convert one hot\n",
    "        def convert(win):\n",
    "            all_data = []\n",
    "            for i in win:\n",
    "                win_data = []\n",
    "                for val in i:\n",
    "                    win_data.append(one_hot(self.num[val]))\n",
    "                all_data.append(win_data)\n",
    "\n",
    "            return np.array(all_data)\n",
    "\n",
    "        return convert(win)\n",
    "    \n",
    "    \n",
    "    def __len__(self):\n",
    "        return self.ds().shape[0]\n",
    "    \n",
    "    \n",
    "    def __getitem__(self,idx):\n",
    "        \n",
    "        output = self.ds()\n",
    "        return torch.tensor(output[idx]).float()\n",
    "\n"
   ]
  },
  {
   "cell_type": "code",
   "execution_count": null,
   "metadata": {},
   "outputs": [],
   "source": []
  },
  {
   "cell_type": "code",
   "execution_count": 6,
   "metadata": {},
   "outputs": [],
   "source": [
    "class word2vec(nn.Module):\n",
    "    def __init__(self):\n",
    "        super(word2vec,self).__init__()\n",
    "        \n",
    "        self.h1 = nn.Linear(26,10)\n",
    "        self.h2 = nn.Linear(10,26)\n",
    "        self.soft = nn.Softmax()\n",
    "\n",
    "    def forward(self,w1,w2):\n",
    "        \n",
    "        # sum w1 and w2 then linear\n",
    "        output = w1+w2\n",
    "        output = self.h1(output)\n",
    "        output = self.h2(output)\n",
    "        \n",
    "        return self.soft(output)\n",
    "    "
   ]
  },
  {
   "cell_type": "code",
   "execution_count": 7,
   "metadata": {},
   "outputs": [],
   "source": [
    "network = word2vec()\n",
    "criterion = nn.CrossEntropyLoss()\n",
    "optimizer = torch.optim.Adam(network.parameters())"
   ]
  },
  {
   "cell_type": "code",
   "execution_count": 11,
   "metadata": {},
   "outputs": [
    {
     "name": "stderr",
     "output_type": "stream",
     "text": [
      "<ipython-input-6-da328ef4bb4e>:16: UserWarning: Implicit dimension choice for softmax has been deprecated. Change the call to include dim=X as an argument.\n",
      "  return self.soft(output)\n"
     ]
    }
   ],
   "source": [
    "# training\n",
    "dset = dataset(char)\n",
    "load = DataLoader(dset,batch_size=3)\n",
    "loss_=[]\n",
    "for x in range(100):\n",
    "    for i,data in enumerate(load):\n",
    "\n",
    "        X1 = data[:,0,:]\n",
    "        X2 = data[:,1,:]\n",
    "        y  = data[:,2,:]\n",
    "\n",
    "        output = network(X1,X2)\n",
    "\n",
    "        loss = criterion(output,torch.argmax(y,dim=1))\n",
    "        \n",
    "        if x % 10 == 0:\n",
    "        \n",
    "            loss_.append(loss.item())\n",
    "\n",
    "        #print(loss)\n",
    "        optimizer.zero_grad()\n",
    "        loss.backward()\n",
    "\n",
    "        optimizer.step()      \n",
    "        #print(loss)"
   ]
  },
  {
   "cell_type": "code",
   "execution_count": 12,
   "metadata": {},
   "outputs": [],
   "source": [
    "%matplotlib inline"
   ]
  },
  {
   "cell_type": "code",
   "execution_count": 13,
   "metadata": {},
   "outputs": [
    {
     "data": {
      "text/plain": [
       "[<matplotlib.lines.Line2D at 0x7fc5ab6fea00>]"
      ]
     },
     "execution_count": 13,
     "metadata": {},
     "output_type": "execute_result"
    },
    {
     "data": {
      "image/png": "[encoded data removed]",
      "text/plain": [
       "<Figure size 432x288 with 1 Axes>"
      ]
     },
     "metadata": {
      "needs_background": "light"
     },
     "output_type": "display_data"
    }
   ],
   "source": [
    "plt.plot(loss_)"
   ]
  },
  {
   "cell_type": "code",
   "execution_count": null,
   "metadata": {},
   "outputs": [],
   "source": []
  },
  {
   "cell_type": "code",
   "execution_count": null,
   "metadata": {},
   "outputs": [],
   "source": []
  }
 ],
 "metadata": {
  "kernelspec": {
   "display_name": "Python 3",
   "language": "python",
   "name": "python3"
  },
  "language_info": {
   "codemirror_mode": {
    "name": "ipython",
    "version": 3
   },
   "file_extension": ".py",
   "mimetype": "text/x-python",
   "name": "python",
   "nbconvert_exporter": "python",
   "pygments_lexer": "ipython3",
   "version": "3.8.5"
  }
 },
 "nbformat": 4,
 "nbformat_minor": 4
}
