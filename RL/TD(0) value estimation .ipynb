{
 "cells": [
  {
   "cell_type": "code",
   "execution_count": 1,
   "metadata": {},
   "outputs": [],
   "source": [
    "import numpy as np\n",
    "from new import NewWorld\n",
    "import time"
   ]
  },
  {
   "cell_type": "code",
   "execution_count": 2,
   "metadata": {},
   "outputs": [
    {
     "data": {
      "text/plain": [
       "array([0.0625, 0.0625, 0.0625, 0.0625, 0.0625, 0.0625, 0.0625, 0.0625,\n",
       "       0.0625, 0.0625, 0.0625, 0.0625, 0.0625, 0.0625, 0.0625, 0.0625])"
      ]
     },
     "execution_count": 2,
     "metadata": {},
     "output_type": "execute_result"
    }
   ],
   "source": [
    "env = NewWorld()\n",
    "\n",
    "env.state"
   ]
  },
  {
   "cell_type": "code",
   "execution_count": 3,
   "metadata": {},
   "outputs": [],
   "source": [
    "n_states = 4*4"
   ]
  },
  {
   "cell_type": "code",
   "execution_count": 4,
   "metadata": {},
   "outputs": [],
   "source": [
    "def random_policy(s):\n",
    "    return np.random.randint(0,4)"
   ]
  },
  {
   "cell_type": "code",
   "execution_count": 5,
   "metadata": {},
   "outputs": [],
   "source": [
    "xy2i = lambda x,y:x*env.size+y"
   ]
  },
  {
   "cell_type": "code",
   "execution_count": 6,
   "metadata": {},
   "outputs": [],
   "source": [
    "def TabularTD(step_size=0.01):\n",
    "    \n",
    "    V = np.zeros(n_states)\n",
    "    discount = 0.99\n",
    "    \n",
    "    env.done = False\n",
    "    \n",
    "    for i in range(1): # episode \n",
    "        s = 0 # init state is 0\n",
    "        \n",
    "        while True:\n",
    "            \n",
    "            action = random_policy(s)\n",
    "            \n",
    "            n_s,reward,done,_ = env.step(action)\n",
    "            \n",
    "            #env.render()\n",
    "            n_s = xy2i(n_s[0],n_s[1])\n",
    "            \n",
    "            print(\"state =>\",s,\"next state =>\",n_s,\"action =>\",action,\"done =>\",done)\n",
    "            \n",
    "            V[s] = V[s] + step_size * (reward + discount * (V[n_s] - V[s]))\n",
    "            \n",
    "            #env.render()\n",
    "            \n",
    "            s = n_s\n",
    "            if done == True:\n",
    "                break\n",
    "    \n",
    "    return V\n",
    "            \n",
    "        \n",
    "        "
   ]
  },
  {
   "cell_type": "code",
   "execution_count": 7,
   "metadata": {},
   "outputs": [
    {
     "name": "stdout",
     "output_type": "stream",
     "text": [
      "state => 0 next state => 1 action => 3 done => False\n",
      "state => 1 next state => 1 action => 0 done => False\n",
      "state => 1 next state => 0 action => 2 done => False\n",
      "state => 0 next state => 1 action => 3 done => False\n",
      "state => 1 next state => 2 action => 3 done => False\n",
      "state => 2 next state => 2 action => 0 done => False\n",
      "state => 2 next state => 1 action => 2 done => False\n",
      "state => 1 next state => 2 action => 3 done => False\n",
      "state => 2 next state => 1 action => 2 done => False\n",
      "state => 1 next state => 1 action => 0 done => False\n",
      "state => 1 next state => 1 action => 0 done => False\n",
      "state => 1 next state => 2 action => 3 done => False\n",
      "state => 2 next state => 6 action => 1 done => False\n",
      "state => 6 next state => 5 action => 2 done => False\n",
      "state => 5 next state => 6 action => 3 done => False\n",
      "state => 6 next state => 2 action => 0 done => False\n",
      "state => 2 next state => 3 action => 3 done => False\n",
      "state => 3 next state => 3 action => 0 done => False\n",
      "state => 3 next state => 2 action => 2 done => False\n",
      "state => 2 next state => 1 action => 2 done => False\n",
      "state => 1 next state => 5 action => 1 done => False\n",
      "state => 5 next state => 9 action => 1 done => False\n",
      "state => 9 next state => 5 action => 0 done => False\n",
      "state => 5 next state => 6 action => 3 done => False\n",
      "state => 6 next state => 2 action => 0 done => False\n",
      "state => 2 next state => 6 action => 1 done => False\n",
      "state => 6 next state => 7 action => 3 done => False\n",
      "state => 7 next state => 7 action => 3 done => False\n",
      "state => 7 next state => 6 action => 2 done => False\n",
      "state => 6 next state => 2 action => 0 done => False\n",
      "state => 2 next state => 2 action => 0 done => False\n",
      "state => 2 next state => 2 action => 0 done => False\n",
      "state => 2 next state => 1 action => 2 done => False\n",
      "state => 1 next state => 0 action => 2 done => False\n",
      "state => 0 next state => 1 action => 3 done => False\n",
      "state => 1 next state => 5 action => 1 done => False\n",
      "state => 5 next state => 4 action => 2 done => False\n",
      "state => 4 next state => 8 action => 1 done => False\n",
      "state => 8 next state => 12 action => 1 done => False\n",
      "state => 12 next state => 12 action => 2 done => False\n",
      "state => 12 next state => 12 action => 2 done => False\n",
      "state => 12 next state => 8 action => 0 done => False\n",
      "state => 8 next state => 9 action => 3 done => False\n",
      "state => 9 next state => 8 action => 2 done => False\n",
      "state => 8 next state => 4 action => 0 done => False\n",
      "state => 4 next state => 4 action => 2 done => False\n",
      "state => 4 next state => 4 action => 2 done => False\n",
      "state => 4 next state => 4 action => 2 done => False\n",
      "state => 4 next state => 0 action => 0 done => False\n",
      "state => 0 next state => 0 action => 0 done => False\n",
      "state => 0 next state => 4 action => 1 done => False\n",
      "state => 4 next state => 0 action => 0 done => False\n",
      "state => 0 next state => 0 action => 0 done => False\n",
      "state => 0 next state => 0 action => 2 done => False\n",
      "state => 0 next state => 0 action => 0 done => False\n",
      "state => 0 next state => 0 action => 0 done => False\n",
      "state => 0 next state => 1 action => 3 done => False\n",
      "state => 1 next state => 1 action => 0 done => False\n",
      "state => 1 next state => 2 action => 3 done => False\n",
      "state => 2 next state => 3 action => 3 done => False\n",
      "state => 3 next state => 7 action => 1 done => False\n",
      "state => 7 next state => 3 action => 0 done => False\n",
      "state => 3 next state => 3 action => 3 done => False\n",
      "state => 3 next state => 7 action => 1 done => False\n",
      "state => 7 next state => 3 action => 0 done => False\n",
      "state => 3 next state => 3 action => 0 done => False\n",
      "state => 3 next state => 3 action => 3 done => False\n",
      "state => 3 next state => 2 action => 2 done => False\n",
      "state => 2 next state => 6 action => 1 done => False\n",
      "state => 6 next state => 5 action => 2 done => False\n",
      "state => 5 next state => 9 action => 1 done => False\n",
      "state => 9 next state => 13 action => 1 done => False\n",
      "state => 13 next state => 12 action => 2 done => False\n",
      "state => 12 next state => 12 action => 1 done => False\n",
      "state => 12 next state => 13 action => 3 done => False\n",
      "state => 13 next state => 14 action => 3 done => False\n",
      "state => 14 next state => 14 action => 1 done => False\n",
      "state => 14 next state => 14 action => 1 done => False\n",
      "state => 14 next state => 13 action => 2 done => False\n",
      "state => 13 next state => 14 action => 3 done => False\n",
      "state => 14 next state => 13 action => 2 done => False\n",
      "state => 13 next state => 12 action => 2 done => False\n",
      "state => 12 next state => 8 action => 0 done => False\n",
      "state => 8 next state => 8 action => 2 done => False\n",
      "state => 8 next state => 9 action => 3 done => False\n",
      "state => 9 next state => 13 action => 1 done => False\n",
      "state => 13 next state => 14 action => 3 done => False\n",
      "state => 14 next state => 10 action => 0 done => False\n",
      "state => 10 next state => 14 action => 1 done => False\n",
      "state => 14 next state => 15 action => 3 done => True\n"
     ]
    },
    {
     "data": {
      "text/plain": [
       "array([0.1009315 , 0.11759036, 0.1181335 , 0.08067343, 0.05991812,\n",
       "       0.04951086, 0.06056657, 0.04059766, 0.03039205, 0.03960499,\n",
       "       0.01048725, 0.        , 0.00039505, 0.01048913, 0.14872954,\n",
       "       0.        ])"
      ]
     },
     "execution_count": 7,
     "metadata": {},
     "output_type": "execute_result"
    }
   ],
   "source": [
    "TabularTD()"
   ]
  },
  {
   "cell_type": "code",
   "execution_count": null,
   "metadata": {},
   "outputs": [],
   "source": []
  }
 ],
 "metadata": {
  "kernelspec": {
   "display_name": "Python 3",
   "language": "python",
   "name": "python3"
  },
  "language_info": {
   "codemirror_mode": {
    "name": "ipython",
    "version": 3
   },
   "file_extension": ".py",
   "mimetype": "text/x-python",
   "name": "python",
   "nbconvert_exporter": "python",
   "pygments_lexer": "ipython3",
   "version": "3.8.5"
  }
 },
 "nbformat": 4,
 "nbformat_minor": 4
}
