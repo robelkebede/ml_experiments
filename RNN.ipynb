{
 "cells": [
  {
   "cell_type": "code",
   "execution_count": 2,
   "metadata": {},
   "outputs": [],
   "source": [
    "import numpy as np\n",
    "import matplotlib.pyplot as plt\n",
    "from sklearn.datasets import load_iris\n",
    "from sklearn.model_selection import train_test_split\n",
    "import torch\n",
    "import matplotlib.pyplot as plt\n",
    "from torch import nn"
   ]
  },
  {
   "cell_type": "code",
   "execution_count": 3,
   "metadata": {},
   "outputs": [],
   "source": [
    "iris = load_iris()\n",
    "\n",
    "X = iris.data\n",
    "y = iris.target"
   ]
  },
  {
   "cell_type": "code",
   "execution_count": 4,
   "metadata": {},
   "outputs": [],
   "source": [
    "X_train,X_test,y_train,y_test = train_test_split(X,y)"
   ]
  },
  {
   "cell_type": "code",
   "execution_count": 5,
   "metadata": {},
   "outputs": [],
   "source": [
    "X_train = torch.from_numpy(X_train)\n",
    "y_train = torch.from_numpy(y_train)\n",
    "X_test = torch.from_numpy(X_test)\n",
    "y_test = torch.from_numpy(y_test)"
   ]
  },
  {
   "cell_type": "code",
   "execution_count": null,
   "metadata": {},
   "outputs": [],
   "source": []
  },
  {
   "cell_type": "code",
   "execution_count": 6,
   "metadata": {},
   "outputs": [],
   "source": [
    "class Rnn(nn.Module):\n",
    "    def __init__(self ,input_size, hidden_size, output_size):\n",
    "        super(Rnn,self).__init__()\n",
    "        \n",
    "        self.hidden_size = hidden_size\n",
    "        self.layer1 = nn.Linear(5,4)\n",
    "        self.layer2 = nn.Linear(5,3)\n",
    "        \n",
    "    def forward(self,x,state_t):\n",
    "\n",
    "        comb = torch.cat((x.reshape(1,1),state_t),1)\n",
    "        \n",
    "        hidden_state =self.layer1(comb)\n",
    "        \n",
    "        output =  torch.sigmoid(self.layer2(comb))\n",
    "        return output,hidden_state\n",
    "    \n",
    "    def init_state_t(self):\n",
    "        return nn.init.kaiming_uniform_(torch.empty(1, self.hidden_size))\n",
    "        #return torch.zeros(1, self.hidden_size)\n",
    "        \n",
    "        "
   ]
  },
  {
   "cell_type": "code",
   "execution_count": 7,
   "metadata": {},
   "outputs": [],
   "source": [
    "model = Rnn(1,4,3)\n",
    "criterion = nn.CrossEntropyLoss()\n",
    "optimizer = torch.optim.Adam(model.parameters())"
   ]
  },
  {
   "cell_type": "code",
   "execution_count": 8,
   "metadata": {},
   "outputs": [],
   "source": [
    "output = model(torch.tensor([X_train[0][0]]).float() ,torch.rand(1,4))"
   ]
  },
  {
   "cell_type": "code",
   "execution_count": 9,
   "metadata": {},
   "outputs": [
    {
     "data": {
      "text/plain": [
       "(tensor([[0.0338, 0.9498, 0.2786]], grad_fn=<SigmoidBackward>),\n",
       " tensor([[ 0.2384, -2.0223,  2.8070,  2.5372]], grad_fn=<AddmmBackward>))"
      ]
     },
     "execution_count": 9,
     "metadata": {},
     "output_type": "execute_result"
    }
   ],
   "source": [
    "output"
   ]
  },
  {
   "cell_type": "code",
   "execution_count": 10,
   "metadata": {},
   "outputs": [
    {
     "name": "stdout",
     "output_type": "stream",
     "text": [
      "tensor(1.0597, grad_fn=<NllLossBackward>)\n",
      "tensor(0.8910, grad_fn=<NllLossBackward>)\n",
      "tensor(1.0489, grad_fn=<NllLossBackward>)\n",
      "tensor(0.8817, grad_fn=<NllLossBackward>)\n",
      "tensor(0.9022, grad_fn=<NllLossBackward>)\n",
      "tensor(1.2153, grad_fn=<NllLossBackward>)\n",
      "tensor(0.9204, grad_fn=<NllLossBackward>)\n",
      "tensor(1.0697, grad_fn=<NllLossBackward>)\n",
      "tensor(1.1658, grad_fn=<NllLossBackward>)\n",
      "tensor(1.0341, grad_fn=<NllLossBackward>)\n",
      "tensor(1.0141, grad_fn=<NllLossBackward>)\n",
      "tensor(1.0205, grad_fn=<NllLossBackward>)\n",
      "tensor(1.0031, grad_fn=<NllLossBackward>)\n",
      "tensor(0.9213, grad_fn=<NllLossBackward>)\n",
      "tensor(1.0008, grad_fn=<NllLossBackward>)\n",
      "tensor(0.9067, grad_fn=<NllLossBackward>)\n",
      "tensor(0.9312, grad_fn=<NllLossBackward>)\n",
      "tensor(1.1232, grad_fn=<NllLossBackward>)\n",
      "tensor(0.9476, grad_fn=<NllLossBackward>)\n",
      "tensor(1.0268, grad_fn=<NllLossBackward>)\n",
      "tensor(1.0835, grad_fn=<NllLossBackward>)\n",
      "tensor(0.9729, grad_fn=<NllLossBackward>)\n",
      "tensor(0.9790, grad_fn=<NllLossBackward>)\n",
      "tensor(0.9811, grad_fn=<NllLossBackward>)\n",
      "tensor(0.9572, grad_fn=<NllLossBackward>)\n",
      "tensor(0.9439, grad_fn=<NllLossBackward>)\n",
      "tensor(0.9678, grad_fn=<NllLossBackward>)\n",
      "tensor(0.9363, grad_fn=<NllLossBackward>)\n",
      "tensor(0.9527, grad_fn=<NllLossBackward>)\n",
      "tensor(1.0162, grad_fn=<NllLossBackward>)\n",
      "tensor(0.9724, grad_fn=<NllLossBackward>)\n",
      "tensor(0.9799, grad_fn=<NllLossBackward>)\n",
      "tensor(0.9833, grad_fn=<NllLossBackward>)\n",
      "tensor(0.9374, grad_fn=<NllLossBackward>)\n",
      "tensor(0.9448, grad_fn=<NllLossBackward>)\n",
      "tensor(0.9499, grad_fn=<NllLossBackward>)\n",
      "tensor(0.9330, grad_fn=<NllLossBackward>)\n",
      "tensor(0.9697, grad_fn=<NllLossBackward>)\n",
      "tensor(0.9343, grad_fn=<NllLossBackward>)\n",
      "tensor(0.9530, grad_fn=<NllLossBackward>)\n",
      "tensor(0.9720, grad_fn=<NllLossBackward>)\n",
      "tensor(0.9360, grad_fn=<NllLossBackward>)\n",
      "tensor(0.9886, grad_fn=<NllLossBackward>)\n",
      "tensor(0.9531, grad_fn=<NllLossBackward>)\n",
      "tensor(0.8674, grad_fn=<NllLossBackward>)\n",
      "tensor(0.9101, grad_fn=<NllLossBackward>)\n",
      "tensor(0.9146, grad_fn=<NllLossBackward>)\n",
      "tensor(0.9408, grad_fn=<NllLossBackward>)\n",
      "tensor(0.8969, grad_fn=<NllLossBackward>)\n",
      "tensor(0.9832, grad_fn=<NllLossBackward>)\n",
      "tensor(0.9028, grad_fn=<NllLossBackward>)\n",
      "tensor(0.9590, grad_fn=<NllLossBackward>)\n",
      "tensor(0.9837, grad_fn=<NllLossBackward>)\n",
      "tensor(0.8900, grad_fn=<NllLossBackward>)\n",
      "tensor(0.9976, grad_fn=<NllLossBackward>)\n",
      "tensor(0.9279, grad_fn=<NllLossBackward>)\n",
      "tensor(0.8128, grad_fn=<NllLossBackward>)\n",
      "tensor(0.8848, grad_fn=<NllLossBackward>)\n",
      "tensor(0.8897, grad_fn=<NllLossBackward>)\n",
      "tensor(0.8949, grad_fn=<NllLossBackward>)\n",
      "tensor(0.8698, grad_fn=<NllLossBackward>)\n",
      "tensor(0.9878, grad_fn=<NllLossBackward>)\n",
      "tensor(0.8951, grad_fn=<NllLossBackward>)\n",
      "tensor(0.9682, grad_fn=<NllLossBackward>)\n",
      "tensor(0.9874, grad_fn=<NllLossBackward>)\n",
      "tensor(0.8306, grad_fn=<NllLossBackward>)\n",
      "tensor(0.9948, grad_fn=<NllLossBackward>)\n",
      "tensor(0.9141, grad_fn=<NllLossBackward>)\n",
      "tensor(0.7934, grad_fn=<NllLossBackward>)\n",
      "tensor(0.8618, grad_fn=<NllLossBackward>)\n",
      "tensor(0.8767, grad_fn=<NllLossBackward>)\n",
      "tensor(0.8956, grad_fn=<NllLossBackward>)\n",
      "tensor(0.8630, grad_fn=<NllLossBackward>)\n",
      "tensor(0.9822, grad_fn=<NllLossBackward>)\n",
      "tensor(0.8721, grad_fn=<NllLossBackward>)\n",
      "tensor(0.9594, grad_fn=<NllLossBackward>)\n",
      "tensor(0.9774, grad_fn=<NllLossBackward>)\n",
      "tensor(0.7754, grad_fn=<NllLossBackward>)\n",
      "tensor(0.9904, grad_fn=<NllLossBackward>)\n",
      "tensor(0.9057, grad_fn=<NllLossBackward>)\n",
      "tensor(0.7241, grad_fn=<NllLossBackward>)\n",
      "tensor(0.8575, grad_fn=<NllLossBackward>)\n",
      "tensor(0.8578, grad_fn=<NllLossBackward>)\n",
      "tensor(0.8857, grad_fn=<NllLossBackward>)\n",
      "tensor(0.8502, grad_fn=<NllLossBackward>)\n",
      "tensor(0.9747, grad_fn=<NllLossBackward>)\n",
      "tensor(0.8699, grad_fn=<NllLossBackward>)\n",
      "tensor(0.9562, grad_fn=<NllLossBackward>)\n",
      "tensor(0.9725, grad_fn=<NllLossBackward>)\n",
      "tensor(0.7455, grad_fn=<NllLossBackward>)\n",
      "tensor(0.9690, grad_fn=<NllLossBackward>)\n",
      "tensor(0.8940, grad_fn=<NllLossBackward>)\n",
      "tensor(0.7110, grad_fn=<NllLossBackward>)\n",
      "tensor(0.8531, grad_fn=<NllLossBackward>)\n",
      "tensor(0.8579, grad_fn=<NllLossBackward>)\n",
      "tensor(0.8726, grad_fn=<NllLossBackward>)\n",
      "tensor(0.8413, grad_fn=<NllLossBackward>)\n",
      "tensor(0.9743, grad_fn=<NllLossBackward>)\n",
      "tensor(0.8537, grad_fn=<NllLossBackward>)\n",
      "tensor(0.9456, grad_fn=<NllLossBackward>)\n",
      "tensor(0.9593, grad_fn=<NllLossBackward>)\n",
      "tensor(0.7094, grad_fn=<NllLossBackward>)\n",
      "tensor(0.9716, grad_fn=<NllLossBackward>)\n",
      "tensor(0.8852, grad_fn=<NllLossBackward>)\n",
      "tensor(0.6599, grad_fn=<NllLossBackward>)\n",
      "tensor(0.8432, grad_fn=<NllLossBackward>)\n",
      "tensor(0.8465, grad_fn=<NllLossBackward>)\n",
      "tensor(0.8658, grad_fn=<NllLossBackward>)\n",
      "tensor(0.8418, grad_fn=<NllLossBackward>)\n",
      "tensor(0.9546, grad_fn=<NllLossBackward>)\n",
      "tensor(0.8564, grad_fn=<NllLossBackward>)\n",
      "tensor(0.9402, grad_fn=<NllLossBackward>)\n",
      "tensor(0.9516, grad_fn=<NllLossBackward>)\n",
      "tensor(0.6988, grad_fn=<NllLossBackward>)\n",
      "tensor(0.9473, grad_fn=<NllLossBackward>)\n",
      "tensor(0.8739, grad_fn=<NllLossBackward>)\n",
      "tensor(0.6653, grad_fn=<NllLossBackward>)\n",
      "tensor(0.8507, grad_fn=<NllLossBackward>)\n",
      "tensor(0.8519, grad_fn=<NllLossBackward>)\n",
      "tensor(0.8700, grad_fn=<NllLossBackward>)\n"
     ]
    }
   ],
   "source": [
    "# training\n",
    "\n",
    "loss_ = []\n",
    "\n",
    "for i in range(10): #epoch\n",
    "    \n",
    "    for j in range(len(y_train)):\n",
    "        \n",
    "        X = X_train[j]\n",
    "        y = y_train[j].reshape(1)\n",
    "        \n",
    "        hidden_state = model.init_state_t()\n",
    "        \n",
    "        for s in X: \n",
    "            output,hidden_state = model(torch.tensor([s]).float(),hidden_state)\n",
    "            \n",
    "        loss = criterion(output,y)\n",
    "        \n",
    "        if j%10 == 0:\n",
    "            print(loss)\n",
    "            loss_.append(loss.item())\n",
    "        \n",
    "        optimizer.zero_grad()\n",
    "        loss.backward()\n",
    "        nn.utils.clip_grad_norm_(model.parameters(), 1)\n",
    "        optimizer.step()\n",
    "        \n",
    "        \n",
    "        "
   ]
  },
  {
   "cell_type": "code",
   "execution_count": 11,
   "metadata": {},
   "outputs": [],
   "source": [
    "%matplotlib inline"
   ]
  },
  {
   "cell_type": "code",
   "execution_count": 12,
   "metadata": {},
   "outputs": [
    {
     "data": {
      "text/plain": [
       "[<matplotlib.lines.Line2D at 0x7fd954aa7070>]"
      ]
     },
     "execution_count": 12,
     "metadata": {},
     "output_type": "execute_result"
    },
    {
     "data": {
      "image/png": "[encoded data removed]",
      "text/plain": [
       "<Figure size 432x288 with 1 Axes>"
      ]
     },
     "metadata": {
      "needs_background": "light"
     },
     "output_type": "display_data"
    }
   ],
   "source": [
    "plt.plot(loss_)"
   ]
  },
  {
   "cell_type": "code",
   "execution_count": null,
   "metadata": {},
   "outputs": [],
   "source": []
  },
  {
   "cell_type": "code",
   "execution_count": null,
   "metadata": {},
   "outputs": [],
   "source": []
  }
 ],
 "metadata": {
  "kernelspec": {
   "display_name": "Python 3",
   "language": "python",
   "name": "python3"
  },
  "language_info": {
   "codemirror_mode": {
    "name": "ipython",
    "version": 3
   },
   "file_extension": ".py",
   "mimetype": "text/x-python",
   "name": "python",
   "nbconvert_exporter": "python",
   "pygments_lexer": "ipython3",
   "version": "3.8.5"
  }
 },
 "nbformat": 4,
 "nbformat_minor": 4
}
