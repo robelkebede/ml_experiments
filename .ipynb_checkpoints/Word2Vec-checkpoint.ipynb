{
 "cells": [
  {
   "cell_type": "code",
   "execution_count": 167,
   "metadata": {},
   "outputs": [],
   "source": [
    "import numpy as np\n",
    "import torch\n",
    "from torch import nn"
   ]
  },
  {
   "cell_type": "code",
   "execution_count": 168,
   "metadata": {},
   "outputs": [],
   "source": [
    "# dataset\n",
    "\n",
    "char = \"A   B   C   D   E   F   G   H   I   J   K   L   M   N   O   P   Q   R   S   T   U   V   W   X   Y   Z\"\n",
    "char = char.split('   ')\n",
    "\n",
    "num = {char[i]:i for i in range(len(char)) }\n"
   ]
  },
  {
   "cell_type": "code",
   "execution_count": 163,
   "metadata": {},
   "outputs": [],
   "source": [
    "def one_hot(val):\n",
    "    output = np.zeros(len(char))\n",
    "    \n",
    "    output[val] = 1\n",
    "    \n",
    "    return output"
   ]
  },
  {
   "cell_type": "code",
   "execution_count": 164,
   "metadata": {},
   "outputs": [],
   "source": [
    "window_size = 2\n",
    "def window(a, step=1):\n",
    "    n = len(a)\n",
    "    return [a[i:i+window_size+1:step] for i in range(n) if len(a[i:i+3:step]) == 3 ]"
   ]
  },
  {
   "cell_type": "code",
   "execution_count": 165,
   "metadata": {},
   "outputs": [],
   "source": [
    "# generate the training data\n",
    "\n",
    "def dataset(char):\n",
    "    \n",
    "    # window step size 1\n",
    "    win = window(char)\n",
    "    \n",
    "    # convert one hot\n",
    "    def convert(win):\n",
    "        all_data = []\n",
    "        for i in win:\n",
    "            win_data = []\n",
    "            for val in i:\n",
    "                win_data.append(one_hot(num[val]))\n",
    "            all_data.append(win_data)\n",
    "        \n",
    "        return np.array(all_data)\n",
    "    \n",
    "    return convert(win)\n",
    "    \n",
    "    "
   ]
  },
  {
   "cell_type": "code",
   "execution_count": 166,
   "metadata": {},
   "outputs": [
    {
     "name": "stdout",
     "output_type": "stream",
     "text": [
      "(24, 3, 26)\n"
     ]
    }
   ],
   "source": [
    "print(dataset(char).shape)"
   ]
  },
  {
   "cell_type": "code",
   "execution_count": 169,
   "metadata": {},
   "outputs": [],
   "source": [
    "class word2vec(nn.Module):\n",
    "    def __init__(self):\n",
    "        super(word2vec,self).__init__()\n",
    "        \n",
    "        self.h1 = self.Linear(26,10)\n",
    "        self.h2 = self.Linear(10,26)\n",
    "\n",
    "    def forward(self,w1,w2):\n",
    "        \n",
    "        # sum w1 and w2 then linear\n",
    "        output = torch.sum(w1,w2)\n",
    "        output = self.h1(output)\n",
    "        output = self.h2(output)\n",
    "        \n",
    "        return nn.softmax(output)\n",
    "    "
   ]
  },
  {
   "cell_type": "code",
   "execution_count": null,
   "metadata": {},
   "outputs": [],
   "source": [
    "        self.h1 = self.Linear(26,10)\n"
   ]
  }
 ],
 "metadata": {
  "kernelspec": {
   "display_name": "Python 3",
   "language": "python",
   "name": "python3"
  },
  "language_info": {
   "codemirror_mode": {
    "name": "ipython",
    "version": 3
   },
   "file_extension": ".py",
   "mimetype": "text/x-python",
   "name": "python",
   "nbconvert_exporter": "python",
   "pygments_lexer": "ipython3",
   "version": "3.8.5"
  }
 },
 "nbformat": 4,
 "nbformat_minor": 4
}
