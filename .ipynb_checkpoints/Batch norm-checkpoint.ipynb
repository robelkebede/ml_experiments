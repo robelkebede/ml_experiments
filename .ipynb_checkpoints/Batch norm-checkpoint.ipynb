{
 "cells": [
  {
   "cell_type": "code",
   "execution_count": 1,
   "metadata": {},
   "outputs": [],
   "source": [
    "import matplotlib.pyplot as plt \n",
    "import numpy as np\n",
    "import torch\n",
    "from torch import nn\n",
    "from sklearn.datasets import load_iris"
   ]
  },
  {
   "cell_type": "code",
   "execution_count": 2,
   "metadata": {},
   "outputs": [],
   "source": [
    "iris = load_iris()\n",
    "X = torch.from_numpy(iris.data).float()\n",
    "y = torch.from_numpy(iris.target)"
   ]
  },
  {
   "cell_type": "code",
   "execution_count": null,
   "metadata": {},
   "outputs": [],
   "source": [
    "# batch normalization \n",
    "\n"
   ]
  },
  {
   "cell_type": "code",
   "execution_count": 84,
   "metadata": {},
   "outputs": [],
   "source": [
    "class Network(nn.Module):\n",
    "    def __init__(self):\n",
    "        super(Network,self).__init__()\n",
    "        self.l1 = nn.Linear(4,3)\n",
    "        self.soft = nn.Softmax()\n",
    "        \n",
    "    def forward(self,x):\n",
    "        output = self.l1(x)\n",
    "        \n",
    "        return self.soft(output)\n",
    "    \n",
    "        "
   ]
  },
  {
   "cell_type": "code",
   "execution_count": 100,
   "metadata": {},
   "outputs": [],
   "source": [
    "network = Network()\n",
    "criterion = nn.CrossEntropyLoss()\n",
    "optimizer = torch.optim.Adam(network.parameters(), lr=0.01)"
   ]
  },
  {
   "cell_type": "code",
   "execution_count": 101,
   "metadata": {},
   "outputs": [
    {
     "name": "stderr",
     "output_type": "stream",
     "text": [
      "<ipython-input-84-1e94052de35d>:10: UserWarning: Implicit dimension choice for softmax has been deprecated. Change the call to include dim=X as an argument.\n",
      "  return self.soft(output)\n"
     ]
    },
    {
     "name": "stdout",
     "output_type": "stream",
     "text": [
      "tensor(1.1738, grad_fn=<NllLossBackward>)\n",
      "tensor(1.1658, grad_fn=<NllLossBackward>)\n",
      "tensor(1.1579, grad_fn=<NllLossBackward>)\n",
      "tensor(1.1512, grad_fn=<NllLossBackward>)\n",
      "tensor(1.1463, grad_fn=<NllLossBackward>)\n",
      "tensor(1.1433, grad_fn=<NllLossBackward>)\n",
      "tensor(1.1416, grad_fn=<NllLossBackward>)\n",
      "tensor(1.1405, grad_fn=<NllLossBackward>)\n",
      "tensor(1.1395, grad_fn=<NllLossBackward>)\n",
      "tensor(1.1381, grad_fn=<NllLossBackward>)\n",
      "tensor(1.1363, grad_fn=<NllLossBackward>)\n",
      "tensor(1.1340, grad_fn=<NllLossBackward>)\n",
      "tensor(1.1313, grad_fn=<NllLossBackward>)\n",
      "tensor(1.1284, grad_fn=<NllLossBackward>)\n",
      "tensor(1.1255, grad_fn=<NllLossBackward>)\n",
      "tensor(1.1229, grad_fn=<NllLossBackward>)\n",
      "tensor(1.1206, grad_fn=<NllLossBackward>)\n",
      "tensor(1.1188, grad_fn=<NllLossBackward>)\n",
      "tensor(1.1173, grad_fn=<NllLossBackward>)\n",
      "tensor(1.1159, grad_fn=<NllLossBackward>)\n",
      "tensor(1.1145, grad_fn=<NllLossBackward>)\n",
      "tensor(1.1129, grad_fn=<NllLossBackward>)\n",
      "tensor(1.1112, grad_fn=<NllLossBackward>)\n",
      "tensor(1.1094, grad_fn=<NllLossBackward>)\n",
      "tensor(1.1077, grad_fn=<NllLossBackward>)\n",
      "tensor(1.1060, grad_fn=<NllLossBackward>)\n",
      "tensor(1.1045, grad_fn=<NllLossBackward>)\n",
      "tensor(1.1031, grad_fn=<NllLossBackward>)\n",
      "tensor(1.1019, grad_fn=<NllLossBackward>)\n",
      "tensor(1.1008, grad_fn=<NllLossBackward>)\n",
      "tensor(1.0997, grad_fn=<NllLossBackward>)\n",
      "tensor(1.0985, grad_fn=<NllLossBackward>)\n",
      "tensor(1.0972, grad_fn=<NllLossBackward>)\n",
      "tensor(1.0959, grad_fn=<NllLossBackward>)\n",
      "tensor(1.0945, grad_fn=<NllLossBackward>)\n",
      "tensor(1.0932, grad_fn=<NllLossBackward>)\n",
      "tensor(1.0919, grad_fn=<NllLossBackward>)\n",
      "tensor(1.0906, grad_fn=<NllLossBackward>)\n",
      "tensor(1.0892, grad_fn=<NllLossBackward>)\n",
      "tensor(1.0878, grad_fn=<NllLossBackward>)\n",
      "tensor(1.0861, grad_fn=<NllLossBackward>)\n",
      "tensor(1.0843, grad_fn=<NllLossBackward>)\n",
      "tensor(1.0823, grad_fn=<NllLossBackward>)\n",
      "tensor(1.0802, grad_fn=<NllLossBackward>)\n",
      "tensor(1.0778, grad_fn=<NllLossBackward>)\n",
      "tensor(1.0750, grad_fn=<NllLossBackward>)\n",
      "tensor(1.0720, grad_fn=<NllLossBackward>)\n",
      "tensor(1.0684, grad_fn=<NllLossBackward>)\n",
      "tensor(1.0643, grad_fn=<NllLossBackward>)\n",
      "tensor(1.0595, grad_fn=<NllLossBackward>)\n",
      "tensor(1.0539, grad_fn=<NllLossBackward>)\n",
      "tensor(1.0473, grad_fn=<NllLossBackward>)\n",
      "tensor(1.0396, grad_fn=<NllLossBackward>)\n",
      "tensor(1.0308, grad_fn=<NllLossBackward>)\n",
      "tensor(1.0207, grad_fn=<NllLossBackward>)\n",
      "tensor(1.0093, grad_fn=<NllLossBackward>)\n",
      "tensor(0.9969, grad_fn=<NllLossBackward>)\n",
      "tensor(0.9837, grad_fn=<NllLossBackward>)\n",
      "tensor(0.9705, grad_fn=<NllLossBackward>)\n",
      "tensor(0.9580, grad_fn=<NllLossBackward>)\n",
      "tensor(0.9467, grad_fn=<NllLossBackward>)\n",
      "tensor(0.9371, grad_fn=<NllLossBackward>)\n",
      "tensor(0.9292, grad_fn=<NllLossBackward>)\n",
      "tensor(0.9225, grad_fn=<NllLossBackward>)\n",
      "tensor(0.9166, grad_fn=<NllLossBackward>)\n",
      "tensor(0.9108, grad_fn=<NllLossBackward>)\n",
      "tensor(0.9051, grad_fn=<NllLossBackward>)\n",
      "tensor(0.8996, grad_fn=<NllLossBackward>)\n",
      "tensor(0.8945, grad_fn=<NllLossBackward>)\n",
      "tensor(0.8900, grad_fn=<NllLossBackward>)\n",
      "tensor(0.8862, grad_fn=<NllLossBackward>)\n",
      "tensor(0.8828, grad_fn=<NllLossBackward>)\n",
      "tensor(0.8796, grad_fn=<NllLossBackward>)\n",
      "tensor(0.8765, grad_fn=<NllLossBackward>)\n",
      "tensor(0.8731, grad_fn=<NllLossBackward>)\n",
      "tensor(0.8696, grad_fn=<NllLossBackward>)\n",
      "tensor(0.8657, grad_fn=<NllLossBackward>)\n",
      "tensor(0.8615, grad_fn=<NllLossBackward>)\n",
      "tensor(0.8570, grad_fn=<NllLossBackward>)\n",
      "tensor(0.8525, grad_fn=<NllLossBackward>)\n",
      "tensor(0.8479, grad_fn=<NllLossBackward>)\n",
      "tensor(0.8436, grad_fn=<NllLossBackward>)\n",
      "tensor(0.8398, grad_fn=<NllLossBackward>)\n",
      "tensor(0.8366, grad_fn=<NllLossBackward>)\n",
      "tensor(0.8342, grad_fn=<NllLossBackward>)\n",
      "tensor(0.8323, grad_fn=<NllLossBackward>)\n",
      "tensor(0.8306, grad_fn=<NllLossBackward>)\n",
      "tensor(0.8288, grad_fn=<NllLossBackward>)\n",
      "tensor(0.8266, grad_fn=<NllLossBackward>)\n",
      "tensor(0.8240, grad_fn=<NllLossBackward>)\n",
      "tensor(0.8214, grad_fn=<NllLossBackward>)\n",
      "tensor(0.8190, grad_fn=<NllLossBackward>)\n",
      "tensor(0.8170, grad_fn=<NllLossBackward>)\n",
      "tensor(0.8153, grad_fn=<NllLossBackward>)\n",
      "tensor(0.8138, grad_fn=<NllLossBackward>)\n",
      "tensor(0.8123, grad_fn=<NllLossBackward>)\n",
      "tensor(0.8106, grad_fn=<NllLossBackward>)\n",
      "tensor(0.8088, grad_fn=<NllLossBackward>)\n",
      "tensor(0.8069, grad_fn=<NllLossBackward>)\n",
      "tensor(0.8049, grad_fn=<NllLossBackward>)\n"
     ]
    }
   ],
   "source": [
    "# trining\n",
    "loss_ = []\n",
    "for i in range(100):\n",
    "        \n",
    "    output = network(X)\n",
    "    \n",
    "    loss = criterion(output,y)\n",
    "    \n",
    "        \n",
    "    print(loss)\n",
    "    loss_.append(loss.item())\n",
    "        \n",
    "    optimizer.zero_grad()\n",
    "    loss.backward()\n",
    "    optimizer.step()"
   ]
  },
  {
   "cell_type": "code",
   "execution_count": 102,
   "metadata": {},
   "outputs": [
    {
     "data": {
      "text/plain": [
       "[<matplotlib.lines.Line2D at 0x7f1f4d0051c0>]"
      ]
     },
     "execution_count": 102,
     "metadata": {},
     "output_type": "execute_result"
    },
    {
     "data": {
      "image/png": "[encoded data removed]",
      "text/plain": [
       "<Figure size 432x288 with 1 Axes>"
      ]
     },
     "metadata": {
      "needs_background": "light"
     },
     "output_type": "display_data"
    }
   ],
   "source": [
    "plt.plot(loss_)"
   ]
  },
  {
   "cell_type": "code",
   "execution_count": null,
   "metadata": {},
   "outputs": [],
   "source": []
  }
 ],
 "metadata": {
  "kernelspec": {
   "display_name": "Python 3",
   "language": "python",
   "name": "python3"
  },
  "language_info": {
   "codemirror_mode": {
    "name": "ipython",
    "version": 3
   },
   "file_extension": ".py",
   "mimetype": "text/x-python",
   "name": "python",
   "nbconvert_exporter": "python",
   "pygments_lexer": "ipython3",
   "version": "3.8.5"
  }
 },
 "nbformat": 4,
 "nbformat_minor": 4
}
